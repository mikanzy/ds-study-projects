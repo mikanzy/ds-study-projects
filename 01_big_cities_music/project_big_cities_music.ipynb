{
 "cells": [
  {
   "cell_type": "markdown",
   "metadata": {
    "deletable": false,
    "editable": false,
    "id": "E0vqbgi9ay0H"
   },
   "source": [
    "# Музыка больших городов"
   ]
  },
  {
   "cell_type": "markdown",
   "metadata": {
    "deletable": false,
    "editable": false,
    "id": "VUC88oWjTJw2"
   },
   "source": [
    "Сравнение Москвы и Петербурга окружено мифами. Например:\n",
    " * Москва — мегаполис, подчинённый жёсткому ритму рабочей недели;\n",
    " * Петербург — культурная столица, со своими вкусами.\n",
    "\n",
    "Сравним поведение пользователей двух столиц на данных Яндекс Музыки.\n",
    "\n",
    "**Цель исследования** — проверить три гипотезы:\n",
    "1. Активность пользователей зависит от дня недели. Причём в Москве и Петербурге это проявляется по-разному.\n",
    "2. В понедельник утром в Москве преобладают одни жанры, а в Петербурге — другие. Так же и вечером пятницы преобладают разные жанры — в зависимости от города.\n",
    "3. Москва и Петербург предпочитают разные жанры музыки. В Москве чаще слушают поп-музыку, в Петербурге — русский рэп.\n",
    "\n",
    "**План исследования**\n",
    "\n",
    "Данные о поведении пользователей находятся в файле `yandex_music_project.csv`. О качестве данных ничего не известно. Поэтому перед проверкой гипотез понадобится обзор данных.\n",
    "\n",
    "Нужно проверить данные на ошибки и оценить их влияние на результаты исследования. Затем на этапе предобработки вы по возможности исправить наиболее критичные ошибки данных.\n",
    "\n",
    "Таким образом, исследование пройдёт в три этапа:\n",
    " 1. Обзор данных.\n",
    " 2. Предобработка данных.\n",
    " 3. Проверка гипотез.\n",
    "\n"
   ]
  },
  {
   "cell_type": "markdown",
   "metadata": {
    "deletable": false,
    "editable": false,
    "id": "Ml1hmfXC_Zcs"
   },
   "source": [
    "## Обзор данных\n",
    "\n",
    "Составим первое представление о данных Яндекс Музыки."
   ]
  },
  {
   "cell_type": "code",
   "execution_count": 1,
   "metadata": {
    "deletable": false,
    "id": "AXN7PHPN_Zcs"
   },
   "outputs": [],
   "source": [
    "# импорт библиотеки pandas\n",
    "import pandas as pd"
   ]
  },
  {
   "cell_type": "code",
   "execution_count": 2,
   "metadata": {
    "deletable": false,
    "id": "fFVu7vqh_Zct"
   },
   "outputs": [],
   "source": [
    "# чтение файла с данными и сохранение в df\n",
    "df = pd.read_csv('https://<LINK_REMOVED>/datasets/yandex_music_project.csv')"
   ]
  },
  {
   "cell_type": "code",
   "execution_count": 3,
   "metadata": {
    "deletable": false,
    "id": "oWTVX3gW_Zct"
   },
   "outputs": [
    {
     "data": {
      "text/html": [
       "<div>\n",
       "<style scoped>\n",
       "    .dataframe tbody tr th:only-of-type {\n",
       "        vertical-align: middle;\n",
       "    }\n",
       "\n",
       "    .dataframe tbody tr th {\n",
       "        vertical-align: top;\n",
       "    }\n",
       "\n",
       "    .dataframe thead th {\n",
       "        text-align: right;\n",
       "    }\n",
       "</style>\n",
       "<table border=\"1\" class=\"dataframe\">\n",
       "  <thead>\n",
       "    <tr style=\"text-align: right;\">\n",
       "      <th></th>\n",
       "      <th>userID</th>\n",
       "      <th>Track</th>\n",
       "      <th>artist</th>\n",
       "      <th>genre</th>\n",
       "      <th>City</th>\n",
       "      <th>time</th>\n",
       "      <th>Day</th>\n",
       "    </tr>\n",
       "  </thead>\n",
       "  <tbody>\n",
       "    <tr>\n",
       "      <th>0</th>\n",
       "      <td>FFB692EC</td>\n",
       "      <td>Kamigata To Boots</td>\n",
       "      <td>The Mass Missile</td>\n",
       "      <td>rock</td>\n",
       "      <td>Saint-Petersburg</td>\n",
       "      <td>20:28:33</td>\n",
       "      <td>Wednesday</td>\n",
       "    </tr>\n",
       "    <tr>\n",
       "      <th>1</th>\n",
       "      <td>55204538</td>\n",
       "      <td>Delayed Because of Accident</td>\n",
       "      <td>Andreas Rönnberg</td>\n",
       "      <td>rock</td>\n",
       "      <td>Moscow</td>\n",
       "      <td>14:07:09</td>\n",
       "      <td>Friday</td>\n",
       "    </tr>\n",
       "    <tr>\n",
       "      <th>2</th>\n",
       "      <td>20EC38</td>\n",
       "      <td>Funiculì funiculà</td>\n",
       "      <td>Mario Lanza</td>\n",
       "      <td>pop</td>\n",
       "      <td>Saint-Petersburg</td>\n",
       "      <td>20:58:07</td>\n",
       "      <td>Wednesday</td>\n",
       "    </tr>\n",
       "    <tr>\n",
       "      <th>3</th>\n",
       "      <td>A3DD03C9</td>\n",
       "      <td>Dragons in the Sunset</td>\n",
       "      <td>Fire + Ice</td>\n",
       "      <td>folk</td>\n",
       "      <td>Saint-Petersburg</td>\n",
       "      <td>08:37:09</td>\n",
       "      <td>Monday</td>\n",
       "    </tr>\n",
       "    <tr>\n",
       "      <th>4</th>\n",
       "      <td>E2DC1FAE</td>\n",
       "      <td>Soul People</td>\n",
       "      <td>Space Echo</td>\n",
       "      <td>dance</td>\n",
       "      <td>Moscow</td>\n",
       "      <td>08:34:34</td>\n",
       "      <td>Monday</td>\n",
       "    </tr>\n",
       "    <tr>\n",
       "      <th>5</th>\n",
       "      <td>842029A1</td>\n",
       "      <td>Преданная</td>\n",
       "      <td>IMPERVTOR</td>\n",
       "      <td>rusrap</td>\n",
       "      <td>Saint-Petersburg</td>\n",
       "      <td>13:09:41</td>\n",
       "      <td>Friday</td>\n",
       "    </tr>\n",
       "    <tr>\n",
       "      <th>6</th>\n",
       "      <td>4CB90AA5</td>\n",
       "      <td>True</td>\n",
       "      <td>Roman Messer</td>\n",
       "      <td>dance</td>\n",
       "      <td>Moscow</td>\n",
       "      <td>13:00:07</td>\n",
       "      <td>Wednesday</td>\n",
       "    </tr>\n",
       "    <tr>\n",
       "      <th>7</th>\n",
       "      <td>F03E1C1F</td>\n",
       "      <td>Feeling This Way</td>\n",
       "      <td>Polina Griffith</td>\n",
       "      <td>dance</td>\n",
       "      <td>Moscow</td>\n",
       "      <td>20:47:49</td>\n",
       "      <td>Wednesday</td>\n",
       "    </tr>\n",
       "    <tr>\n",
       "      <th>8</th>\n",
       "      <td>8FA1D3BE</td>\n",
       "      <td>И вновь продолжается бой</td>\n",
       "      <td>NaN</td>\n",
       "      <td>ruspop</td>\n",
       "      <td>Moscow</td>\n",
       "      <td>09:17:40</td>\n",
       "      <td>Friday</td>\n",
       "    </tr>\n",
       "    <tr>\n",
       "      <th>9</th>\n",
       "      <td>E772D5C0</td>\n",
       "      <td>Pessimist</td>\n",
       "      <td>NaN</td>\n",
       "      <td>dance</td>\n",
       "      <td>Saint-Petersburg</td>\n",
       "      <td>21:20:49</td>\n",
       "      <td>Wednesday</td>\n",
       "    </tr>\n",
       "  </tbody>\n",
       "</table>\n",
       "</div>"
      ],
      "text/plain": [
       "     userID                        Track            artist   genre  \\\n",
       "0  FFB692EC            Kamigata To Boots  The Mass Missile    rock   \n",
       "1  55204538  Delayed Because of Accident  Andreas Rönnberg    rock   \n",
       "2    20EC38            Funiculì funiculà       Mario Lanza     pop   \n",
       "3  A3DD03C9        Dragons in the Sunset        Fire + Ice    folk   \n",
       "4  E2DC1FAE                  Soul People        Space Echo   dance   \n",
       "5  842029A1                    Преданная         IMPERVTOR  rusrap   \n",
       "6  4CB90AA5                         True      Roman Messer   dance   \n",
       "7  F03E1C1F             Feeling This Way   Polina Griffith   dance   \n",
       "8  8FA1D3BE     И вновь продолжается бой               NaN  ruspop   \n",
       "9  E772D5C0                    Pessimist               NaN   dance   \n",
       "\n",
       "             City        time        Day  \n",
       "0  Saint-Petersburg  20:28:33  Wednesday  \n",
       "1            Moscow  14:07:09     Friday  \n",
       "2  Saint-Petersburg  20:58:07  Wednesday  \n",
       "3  Saint-Petersburg  08:37:09     Monday  \n",
       "4            Moscow  08:34:34     Monday  \n",
       "5  Saint-Petersburg  13:09:41     Friday  \n",
       "6            Moscow  13:00:07  Wednesday  \n",
       "7            Moscow  20:47:49  Wednesday  \n",
       "8            Moscow  09:17:40     Friday  \n",
       "9  Saint-Petersburg  21:20:49  Wednesday  "
      ]
     },
     "execution_count": 3,
     "metadata": {},
     "output_type": "execute_result"
    }
   ],
   "source": [
    "# получение первых 10 строк таблицы df\n",
    "df.head(10)"
   ]
  },
  {
   "cell_type": "code",
   "execution_count": 4,
   "metadata": {
    "deletable": false,
    "id": "DSf2kIb-_Zct"
   },
   "outputs": [
    {
     "name": "stdout",
     "output_type": "stream",
     "text": [
      "<class 'pandas.core.frame.DataFrame'>\n",
      "RangeIndex: 65079 entries, 0 to 65078\n",
      "Data columns (total 7 columns):\n",
      " #   Column    Non-Null Count  Dtype \n",
      "---  ------    --------------  ----- \n",
      " 0     userID  65079 non-null  object\n",
      " 1   Track     63848 non-null  object\n",
      " 2   artist    57876 non-null  object\n",
      " 3   genre     63881 non-null  object\n",
      " 4     City    65079 non-null  object\n",
      " 5   time      65079 non-null  object\n",
      " 6   Day       65079 non-null  object\n",
      "dtypes: object(7)\n",
      "memory usage: 3.5+ MB\n"
     ]
    }
   ],
   "source": [
    "# получение общей информации о данных в таблице df\n",
    "df.info()"
   ]
  },
  {
   "cell_type": "markdown",
   "metadata": {},
   "source": [
    "В таблице семь столбцов. Тип данных во всех столбцах — `object`.\n",
    "Согласно документации к данным:\n",
    "- `userID` — идентификатор пользователя;\n",
    "- `Track` — название трека;\n",
    "- `artist` — имя исполнителя;\n",
    "- `genre` — название жанра;\n",
    "- `City` — город пользователя;\n",
    "- `time` — время начала прослушивания;\n",
    "- `Day` — день недели."
   ]
  },
  {
   "cell_type": "markdown",
   "metadata": {},
   "source": [
    "В названиях столбцов `userID` и `City` есть лишние пробелы. Кроме того, названия столбцов - `userID`, `Track`, `City` и `Day` не соответствуют хорошему стилю, т.к. сочетают заглавные и строчные буквы. Кроме того, слова в названиях столбцов должны быть разделены знаком подчёркивания."
   ]
  },
  {
   "cell_type": "markdown",
   "metadata": {
    "deletable": false,
    "editable": false,
    "id": "TaQ2Iwbr_Zct"
   },
   "source": [
    "Количество значений в столбцах различается. Значит, в данных есть пропущенные значения."
   ]
  },
  {
   "cell_type": "markdown",
   "metadata": {
    "deletable": false,
    "editable": false,
    "id": "MCB6-dXG_Zct"
   },
   "source": [
    "**Выводы**\n",
    "\n",
    "В каждой строке таблицы — данные о прослушанном треке. Часть колонок описывает саму композицию: название, исполнителя и жанр. Остальные данные рассказывают о пользователе: из какого он города, когда он слушал музыку.\n",
    "\n",
    "Предварительно можно утверждать, что данных достаточно для проверки гипотез. Но встречаются пропуски в данных, а в названиях колонок — расхождения с хорошим стилем.\n",
    "\n",
    "Чтобы двигаться дальше, нужно устранить проблемы в данных."
   ]
  },
  {
   "cell_type": "markdown",
   "metadata": {
    "deletable": false,
    "editable": false,
    "id": "SjYF6Ub9_Zct"
   },
   "source": [
    "## Предобработка данных"
   ]
  },
  {
   "cell_type": "markdown",
   "metadata": {},
   "source": [
    "### Переименование столбцов"
   ]
  },
  {
   "cell_type": "code",
   "execution_count": 5,
   "metadata": {
    "deletable": false,
    "id": "oKOTdF_Q_Zct"
   },
   "outputs": [
    {
     "data": {
      "text/plain": [
       "Index(['  userID', 'Track', 'artist', 'genre', '  City  ', 'time', 'Day'], dtype='object')"
      ]
     },
     "execution_count": 5,
     "metadata": {},
     "output_type": "execute_result"
    }
   ],
   "source": [
    "# перечень названий столбцов таблицы df\n",
    "df.columns"
   ]
  },
  {
   "cell_type": "code",
   "execution_count": 6,
   "metadata": {
    "deletable": false,
    "id": "ISlFqs5y_Zct"
   },
   "outputs": [],
   "source": [
    "# переименование столбцов, названия которых не соответствуют хорошему стилю\n",
    "df = df.rename(columns={\n",
    "    '  userID': 'user_id',\n",
    "    'Track': 'track',\n",
    "    '  City  ': 'city',\n",
    "    'Day': 'day'\n",
    "})"
   ]
  },
  {
   "cell_type": "code",
   "execution_count": 7,
   "metadata": {
    "deletable": false,
    "id": "d4NOAmTW_Zct"
   },
   "outputs": [
    {
     "data": {
      "text/plain": [
       "Index(['user_id', 'track', 'artist', 'genre', 'city', 'time', 'day'], dtype='object')"
      ]
     },
     "execution_count": 7,
     "metadata": {},
     "output_type": "execute_result"
    }
   ],
   "source": [
    "# проверка результатов - перечень названий столбцов\n",
    "df.columns"
   ]
  },
  {
   "cell_type": "markdown",
   "metadata": {},
   "source": [
    "### Обработка пропущенных значений"
   ]
  },
  {
   "cell_type": "code",
   "execution_count": 8,
   "metadata": {
    "deletable": false,
    "id": "RskX29qr_Zct"
   },
   "outputs": [
    {
     "data": {
      "text/plain": [
       "user_id       0\n",
       "track      1231\n",
       "artist     7203\n",
       "genre      1198\n",
       "city          0\n",
       "time          0\n",
       "day           0\n",
       "dtype: int64"
      ]
     },
     "execution_count": 8,
     "metadata": {},
     "output_type": "execute_result"
    }
   ],
   "source": [
    "# подсчёт пропусков\n",
    "df.isna().sum()"
   ]
  },
  {
   "cell_type": "markdown",
   "metadata": {},
   "source": [
    "Пропущенные значения есть в столбцах `track`, `artist` и `genre`.\n",
    "\n",
    "Не все пропущенные значения влияют на исследование. Так, в пропуски в столбцах `track` и `artist` не повлияют на результаты исследования, поэтому достаточно заменить их явными обозначениями.\n",
    "\n",
    "Однако пропуски в столбце `genre` могут помешать сравнить музыкальные вкусы москвичей и петербуржцев. На практике было бы правильно установить причину пропусков и восстановить данные. Такой возможности нет в учебном проекте. Поэтому придётся:\n",
    "- заполнить и эти пропуски явными обозначениями;\n",
    "- оценить, насколько они повредят расчётам."
   ]
  },
  {
   "cell_type": "code",
   "execution_count": 9,
   "metadata": {},
   "outputs": [
    {
     "name": "stdout",
     "output_type": "stream",
     "text": [
      "Количество дубликатов: 3826\n"
     ]
    }
   ],
   "source": [
    "# подсчёт явных дубликатов\n",
    "print('Количество дубликатов:', df.duplicated().sum())"
   ]
  },
  {
   "cell_type": "markdown",
   "metadata": {},
   "source": [
    "В данных присутствуют дубликаты - повторяющиеся строки. Их следует удалить, полезной информации они не несут."
   ]
  },
  {
   "cell_type": "code",
   "execution_count": 10,
   "metadata": {},
   "outputs": [
    {
     "data": {
      "text/plain": [
       "0"
      ]
     },
     "execution_count": 10,
     "metadata": {},
     "output_type": "execute_result"
    }
   ],
   "source": [
    "# удаление полных дубликатов\n",
    "df = df.drop_duplicates(ignore_index=True)\n",
    "\n",
    "# проверка на отсутствие полных дубликатов\n",
    "df.duplicated().sum()"
   ]
  },
  {
   "cell_type": "markdown",
   "metadata": {},
   "source": [
    "Полные дубликаты устранены."
   ]
  },
  {
   "cell_type": "code",
   "execution_count": 11,
   "metadata": {},
   "outputs": [
    {
     "data": {
      "text/plain": [
       "user_id       0\n",
       "track      1155\n",
       "artist     6772\n",
       "genre      1127\n",
       "city          0\n",
       "time          0\n",
       "day           0\n",
       "dtype: int64"
      ]
     },
     "execution_count": 11,
     "metadata": {},
     "output_type": "execute_result"
    }
   ],
   "source": [
    "# подсчёт пропусков после удаления полных дубликатов\n",
    "df.isna().sum()"
   ]
  },
  {
   "cell_type": "markdown",
   "metadata": {},
   "source": [
    "Вывод: Количество пропусков после удаления полных дубликатов изменилось, значит в исходных данных были дубликаты строк с пропусками. Однако по-прежнему остаются пропуски в столбцах `track`, `artist` и `genre`."
   ]
  },
  {
   "cell_type": "code",
   "execution_count": 12,
   "metadata": {},
   "outputs": [
    {
     "data": {
      "text/plain": [
       "city\n",
       "Moscow              849\n",
       "Saint-Petersburg    278\n",
       "Name: user_id, dtype: int64"
      ]
     },
     "execution_count": 12,
     "metadata": {},
     "output_type": "execute_result"
    }
   ],
   "source": [
    "# распределение пропусков в столбце genre по городам\n",
    "df[df['genre'].isna()].groupby('city')['user_id'].count()"
   ]
  },
  {
   "cell_type": "code",
   "execution_count": 13,
   "metadata": {},
   "outputs": [
    {
     "data": {
      "text/plain": [
       "day\n",
       "Friday       358\n",
       "Monday       488\n",
       "Wednesday    281\n",
       "Name: user_id, dtype: int64"
      ]
     },
     "execution_count": 13,
     "metadata": {},
     "output_type": "execute_result"
    }
   ],
   "source": [
    "# распределение пропусков в столбце genre по дням недели\n",
    "df[df['genre'].isna()].groupby('day')['user_id'].count()"
   ]
  },
  {
   "cell_type": "code",
   "execution_count": 14,
   "metadata": {},
   "outputs": [
    {
     "data": {
      "text/html": [
       "<div>\n",
       "<style scoped>\n",
       "    .dataframe tbody tr th:only-of-type {\n",
       "        vertical-align: middle;\n",
       "    }\n",
       "\n",
       "    .dataframe tbody tr th {\n",
       "        vertical-align: top;\n",
       "    }\n",
       "\n",
       "    .dataframe thead th {\n",
       "        text-align: right;\n",
       "    }\n",
       "</style>\n",
       "<table border=\"1\" class=\"dataframe\">\n",
       "  <thead>\n",
       "    <tr style=\"text-align: right;\">\n",
       "      <th>day</th>\n",
       "      <th>Monday</th>\n",
       "      <th>Wednesday</th>\n",
       "      <th>Friday</th>\n",
       "    </tr>\n",
       "    <tr>\n",
       "      <th>city</th>\n",
       "      <th></th>\n",
       "      <th></th>\n",
       "      <th></th>\n",
       "    </tr>\n",
       "  </thead>\n",
       "  <tbody>\n",
       "    <tr>\n",
       "      <th>Moscow</th>\n",
       "      <td>393</td>\n",
       "      <td>191</td>\n",
       "      <td>265</td>\n",
       "    </tr>\n",
       "    <tr>\n",
       "      <th>Saint-Petersburg</th>\n",
       "      <td>95</td>\n",
       "      <td>90</td>\n",
       "      <td>93</td>\n",
       "    </tr>\n",
       "  </tbody>\n",
       "</table>\n",
       "</div>"
      ],
      "text/plain": [
       "day               Monday  Wednesday  Friday\n",
       "city                                       \n",
       "Moscow               393        191     265\n",
       "Saint-Petersburg      95         90      93"
      ]
     },
     "execution_count": 14,
     "metadata": {},
     "output_type": "execute_result"
    }
   ],
   "source": [
    "# распределение пропусков в столбце genre по городам и дням недели\n",
    "df_genre_isna = (\n",
    "    df[df['genre'].isna()]\n",
    "    .groupby(['city','day'])['user_id']\n",
    "    .count()\n",
    "    .unstack('day')\n",
    "    .iloc[:, [1, 2, 0]]\n",
    ")\n",
    "df_genre_isna"
   ]
  },
  {
   "cell_type": "code",
   "execution_count": 15,
   "metadata": {},
   "outputs": [],
   "source": [
    "# замена пропущенных значений на 'unknown'\n",
    "columns_to_replace = ['track', 'artist', 'genre']\n",
    "for column in columns_to_replace:\n",
    "    df[column] = df[column].fillna('unknown')"
   ]
  },
  {
   "cell_type": "code",
   "execution_count": 16,
   "metadata": {},
   "outputs": [
    {
     "data": {
      "text/plain": [
       "user_id    0\n",
       "track      0\n",
       "artist     0\n",
       "genre      0\n",
       "city       0\n",
       "time       0\n",
       "day        0\n",
       "dtype: int64"
      ]
     },
     "execution_count": 16,
     "metadata": {},
     "output_type": "execute_result"
    }
   ],
   "source": [
    "# проверка на отсутствие пропусков\n",
    "df.isna().sum()"
   ]
  },
  {
   "cell_type": "markdown",
   "metadata": {},
   "source": [
    "Теперь ни в одном столбце таблицы нет пропущенных значений."
   ]
  },
  {
   "cell_type": "markdown",
   "metadata": {},
   "source": [
    "### Обработка дубликатов"
   ]
  },
  {
   "cell_type": "code",
   "execution_count": 17,
   "metadata": {
    "deletable": false,
    "id": "36eES_S0_Zct"
   },
   "outputs": [
    {
     "data": {
      "text/plain": [
       "0"
      ]
     },
     "execution_count": 17,
     "metadata": {},
     "output_type": "execute_result"
    }
   ],
   "source": [
    "# подсчёт полных дубликатов\n",
    "df.duplicated().sum()"
   ]
  },
  {
   "cell_type": "markdown",
   "metadata": {},
   "source": [
    "После заполнения пропусков новые дубликаты в данных не появились."
   ]
  },
  {
   "cell_type": "code",
   "execution_count": 18,
   "metadata": {
    "deletable": false,
    "id": "JIUcqzZN_Zct"
   },
   "outputs": [
    {
     "data": {
      "text/plain": [
       "array(['acid', 'acoustic', 'action', 'adult', 'africa', 'afrikaans',\n",
       "       'alternative', 'alternativepunk', 'ambient', 'americana',\n",
       "       'animated', 'anime', 'arabesk', 'arabic', 'arena',\n",
       "       'argentinetango', 'art', 'audiobook', 'author', 'avantgarde',\n",
       "       'axé', 'baile', 'balkan', 'beats', 'bigroom', 'black', 'bluegrass',\n",
       "       'blues', 'bollywood', 'bossa', 'brazilian', 'breakbeat', 'breaks',\n",
       "       'broadway', 'cantautori', 'cantopop', 'canzone', 'caribbean',\n",
       "       'caucasian', 'celtic', 'chamber', 'chanson', 'children', 'chill',\n",
       "       'chinese', 'choral', 'christian', 'christmas', 'classical',\n",
       "       'classicmetal', 'club', 'colombian', 'comedy', 'conjazz',\n",
       "       'contemporary', 'country', 'cuban', 'dance', 'dancehall',\n",
       "       'dancepop', 'dark', 'death', 'deep', 'deutschrock', 'deutschspr',\n",
       "       'dirty', 'disco', 'dnb', 'documentary', 'downbeat', 'downtempo',\n",
       "       'drum', 'dub', 'dubstep', 'eastern', 'easy', 'electronic',\n",
       "       'electropop', 'emo', 'entehno', 'epicmetal', 'estrada', 'ethnic',\n",
       "       'eurofolk', 'european', 'experimental', 'extrememetal', 'fado',\n",
       "       'fairytail', 'film', 'fitness', 'flamenco', 'folk', 'folklore',\n",
       "       'folkmetal', 'folkrock', 'folktronica', 'forró', 'frankreich',\n",
       "       'französisch', 'french', 'funk', 'future', 'gangsta', 'garage',\n",
       "       'german', 'ghazal', 'gitarre', 'glitch', 'gospel', 'gothic',\n",
       "       'grime', 'grunge', 'gypsy', 'handsup', \"hard'n'heavy\", 'hardcore',\n",
       "       'hardstyle', 'hardtechno', 'hip', 'hip-hop', 'hiphop',\n",
       "       'historisch', 'holiday', 'hop', 'horror', 'house', 'hymn', 'idm',\n",
       "       'independent', 'indian', 'indie', 'indipop', 'industrial',\n",
       "       'inspirational', 'instrumental', 'international', 'irish', 'jam',\n",
       "       'japanese', 'jazz', 'jewish', 'jpop', 'jungle', 'k-pop',\n",
       "       'karadeniz', 'karaoke', 'kayokyoku', 'korean', 'laiko', 'latin',\n",
       "       'latino', 'leftfield', 'local', 'lounge', 'loungeelectronic',\n",
       "       'lovers', 'malaysian', 'mandopop', 'marschmusik', 'meditative',\n",
       "       'mediterranean', 'melodic', 'metal', 'metalcore', 'mexican',\n",
       "       'middle', 'minimal', 'miscellaneous', 'modern', 'mood', 'mpb',\n",
       "       'muslim', 'native', 'neoklassik', 'neue', 'new', 'newage',\n",
       "       'newwave', 'nu', 'nujazz', 'numetal', 'oceania', 'old', 'opera',\n",
       "       'orchestral', 'other', 'piano', 'podcasts', 'pop', 'popdance',\n",
       "       'popelectronic', 'popeurodance', 'poprussian', 'post',\n",
       "       'posthardcore', 'postrock', 'power', 'progmetal', 'progressive',\n",
       "       'psychedelic', 'punjabi', 'punk', 'quebecois', 'ragga', 'ram',\n",
       "       'rancheras', 'rap', 'rave', 'reggae', 'reggaeton', 'regional',\n",
       "       'relax', 'religious', 'retro', 'rhythm', 'rnb', 'rnr', 'rock',\n",
       "       'rockabilly', 'rockalternative', 'rockindie', 'rockother',\n",
       "       'romance', 'roots', 'ruspop', 'rusrap', 'rusrock', 'russian',\n",
       "       'salsa', 'samba', 'scenic', 'schlager', 'self', 'sertanejo',\n",
       "       'shanson', 'shoegazing', 'showtunes', 'singer', 'ska', 'skarock',\n",
       "       'slow', 'smooth', 'soft', 'soul', 'soulful', 'sound', 'soundtrack',\n",
       "       'southern', 'specialty', 'speech', 'spiritual', 'sport',\n",
       "       'stonerrock', 'surf', 'swing', 'synthpop', 'synthrock',\n",
       "       'sängerportrait', 'tango', 'tanzorchester', 'taraftar', 'tatar',\n",
       "       'tech', 'techno', 'teen', 'thrash', 'top', 'traditional',\n",
       "       'tradjazz', 'trance', 'tribal', 'trip', 'triphop', 'tropical',\n",
       "       'türk', 'türkçe', 'ukrrock', 'unknown', 'urban', 'uzbek',\n",
       "       'variété', 'vi', 'videogame', 'vocal', 'western', 'world',\n",
       "       'worldbeat', 'ïîï', 'электроника'], dtype=object)"
      ]
     },
     "execution_count": 18,
     "metadata": {},
     "output_type": "execute_result"
    }
   ],
   "source": [
    "# просмотр уникальных отсортированных названий жанров\n",
    "df['genre'].sort_values().unique()"
   ]
  },
  {
   "cell_type": "markdown",
   "metadata": {},
   "source": [
    "Название одного и того же жанра может быть записано немного по-разному. Такие ошибки тоже повлияют на результат исследования.\n",
    "\n",
    "Обнаружены неявные дубликаты жанров `hiphop`, `electronic` и `pop`."
   ]
  },
  {
   "cell_type": "code",
   "execution_count": 19,
   "metadata": {
    "deletable": false,
    "id": "ErNDkmns_Zct"
   },
   "outputs": [],
   "source": [
    "# устранение неявных дубликатов жанра hiphop\n",
    "df['genre'] = df['genre'].replace(['hip', 'hop', 'hip-hop'], 'hiphop')"
   ]
  },
  {
   "cell_type": "code",
   "execution_count": 20,
   "metadata": {},
   "outputs": [],
   "source": [
    "# устранение неявных дубликатов жанра electronic\n",
    "# 'электроника' = 'electronic' по-русски\n",
    "df['genre'] = df['genre'].replace('электроника', 'electronic')"
   ]
  },
  {
   "cell_type": "code",
   "execution_count": 21,
   "metadata": {},
   "outputs": [],
   "source": [
    "# устранение неявных дубликатов жанра pop\n",
    "# 'ïîï' в кодировке Windows-1252 = 'поп' в кодировке Windows-1251 = 'pop' по-русски\n",
    "df['genre'] = df['genre'].replace('ïîï', 'pop')"
   ]
  },
  {
   "cell_type": "code",
   "execution_count": 22,
   "metadata": {},
   "outputs": [
    {
     "data": {
      "text/plain": [
       "array(['acid', 'acoustic', 'action', 'adult', 'africa', 'afrikaans',\n",
       "       'alternative', 'alternativepunk', 'ambient', 'americana',\n",
       "       'animated', 'anime', 'arabesk', 'arabic', 'arena',\n",
       "       'argentinetango', 'art', 'audiobook', 'author', 'avantgarde',\n",
       "       'axé', 'baile', 'balkan', 'beats', 'bigroom', 'black', 'bluegrass',\n",
       "       'blues', 'bollywood', 'bossa', 'brazilian', 'breakbeat', 'breaks',\n",
       "       'broadway', 'cantautori', 'cantopop', 'canzone', 'caribbean',\n",
       "       'caucasian', 'celtic', 'chamber', 'chanson', 'children', 'chill',\n",
       "       'chinese', 'choral', 'christian', 'christmas', 'classical',\n",
       "       'classicmetal', 'club', 'colombian', 'comedy', 'conjazz',\n",
       "       'contemporary', 'country', 'cuban', 'dance', 'dancehall',\n",
       "       'dancepop', 'dark', 'death', 'deep', 'deutschrock', 'deutschspr',\n",
       "       'dirty', 'disco', 'dnb', 'documentary', 'downbeat', 'downtempo',\n",
       "       'drum', 'dub', 'dubstep', 'eastern', 'easy', 'electronic',\n",
       "       'electropop', 'emo', 'entehno', 'epicmetal', 'estrada', 'ethnic',\n",
       "       'eurofolk', 'european', 'experimental', 'extrememetal', 'fado',\n",
       "       'fairytail', 'film', 'fitness', 'flamenco', 'folk', 'folklore',\n",
       "       'folkmetal', 'folkrock', 'folktronica', 'forró', 'frankreich',\n",
       "       'französisch', 'french', 'funk', 'future', 'gangsta', 'garage',\n",
       "       'german', 'ghazal', 'gitarre', 'glitch', 'gospel', 'gothic',\n",
       "       'grime', 'grunge', 'gypsy', 'handsup', \"hard'n'heavy\", 'hardcore',\n",
       "       'hardstyle', 'hardtechno', 'hiphop', 'historisch', 'holiday',\n",
       "       'horror', 'house', 'hymn', 'idm', 'independent', 'indian', 'indie',\n",
       "       'indipop', 'industrial', 'inspirational', 'instrumental',\n",
       "       'international', 'irish', 'jam', 'japanese', 'jazz', 'jewish',\n",
       "       'jpop', 'jungle', 'k-pop', 'karadeniz', 'karaoke', 'kayokyoku',\n",
       "       'korean', 'laiko', 'latin', 'latino', 'leftfield', 'local',\n",
       "       'lounge', 'loungeelectronic', 'lovers', 'malaysian', 'mandopop',\n",
       "       'marschmusik', 'meditative', 'mediterranean', 'melodic', 'metal',\n",
       "       'metalcore', 'mexican', 'middle', 'minimal', 'miscellaneous',\n",
       "       'modern', 'mood', 'mpb', 'muslim', 'native', 'neoklassik', 'neue',\n",
       "       'new', 'newage', 'newwave', 'nu', 'nujazz', 'numetal', 'oceania',\n",
       "       'old', 'opera', 'orchestral', 'other', 'piano', 'podcasts', 'pop',\n",
       "       'popdance', 'popelectronic', 'popeurodance', 'poprussian', 'post',\n",
       "       'posthardcore', 'postrock', 'power', 'progmetal', 'progressive',\n",
       "       'psychedelic', 'punjabi', 'punk', 'quebecois', 'ragga', 'ram',\n",
       "       'rancheras', 'rap', 'rave', 'reggae', 'reggaeton', 'regional',\n",
       "       'relax', 'religious', 'retro', 'rhythm', 'rnb', 'rnr', 'rock',\n",
       "       'rockabilly', 'rockalternative', 'rockindie', 'rockother',\n",
       "       'romance', 'roots', 'ruspop', 'rusrap', 'rusrock', 'russian',\n",
       "       'salsa', 'samba', 'scenic', 'schlager', 'self', 'sertanejo',\n",
       "       'shanson', 'shoegazing', 'showtunes', 'singer', 'ska', 'skarock',\n",
       "       'slow', 'smooth', 'soft', 'soul', 'soulful', 'sound', 'soundtrack',\n",
       "       'southern', 'specialty', 'speech', 'spiritual', 'sport',\n",
       "       'stonerrock', 'surf', 'swing', 'synthpop', 'synthrock',\n",
       "       'sängerportrait', 'tango', 'tanzorchester', 'taraftar', 'tatar',\n",
       "       'tech', 'techno', 'teen', 'thrash', 'top', 'traditional',\n",
       "       'tradjazz', 'trance', 'tribal', 'trip', 'triphop', 'tropical',\n",
       "       'türk', 'türkçe', 'ukrrock', 'unknown', 'urban', 'uzbek',\n",
       "       'variété', 'vi', 'videogame', 'vocal', 'western', 'world',\n",
       "       'worldbeat'], dtype=object)"
      ]
     },
     "execution_count": 22,
     "metadata": {},
     "output_type": "execute_result"
    }
   ],
   "source": [
    "# проверка на отсутствие неявных дубликатов\n",
    "df['genre'].sort_values().unique()"
   ]
  },
  {
   "cell_type": "markdown",
   "metadata": {},
   "source": [
    "Неявные дубликаты жанров *hiphop*, *electronic* и *pop* устранены."
   ]
  },
  {
   "cell_type": "markdown",
   "metadata": {
    "deletable": false,
    "editable": false,
    "id": "jz6a9-7HQUDd"
   },
   "source": [
    "**Выводы**\n",
    "\n",
    "Предобработка обнаружила три проблемы в данных:\n",
    "\n",
    "- нарушения в стиле заголовков,\n",
    "- пропущенные значения,\n",
    "- дубликаты — явные и неявные.\n",
    "\n",
    "Заголовки столбцов исправлены заголовки, чтобы упростить работу с таблицей. \n",
    "\n",
    "Полные дубликаты строк удалены. Также устранены выявленные неявные дубликаты названий жанров. Без дубликатов исследование станет более точным.\n",
    "\n",
    "Пропущенные значения заменены на `'unknown'`. Ещё предстоит увидеть, не повредят ли исследованию пропуски в колонке `genre`.\n",
    "\n",
    "Теперь можно перейти к проверке гипотез."
   ]
  },
  {
   "cell_type": "markdown",
   "metadata": {
    "deletable": false,
    "editable": false,
    "id": "WttZHXH0SqKk"
   },
   "source": [
    "## Проверка гипотез"
   ]
  },
  {
   "cell_type": "markdown",
   "metadata": {
    "deletable": false,
    "editable": false,
    "id": "Im936VVi_Zcu"
   },
   "source": [
    "### Сравнение поведения пользователей двух столиц"
   ]
  },
  {
   "cell_type": "markdown",
   "metadata": {
    "deletable": false,
    "editable": false,
    "id": "nwt_MuaL_Zcu"
   },
   "source": [
    "Первая гипотеза утверждает, что пользователи по-разному слушают музыку в Москве и Санкт-Петербурге. Проверим это предположение по данным о трёх днях недели — понедельнике, среде и пятнице. Для этого:\n",
    "\n",
    "* Разделим пользователей Москвы и Санкт-Петербурга.\n",
    "* Сравним, сколько треков послушала каждая группа пользователей в понедельник, среду и пятницу.\n"
   ]
  },
  {
   "cell_type": "code",
   "execution_count": 23,
   "metadata": {
    "deletable": false,
    "id": "0_Qs96oh_Zcu"
   },
   "outputs": [
    {
     "data": {
      "text/plain": [
       "city\n",
       "Moscow              42741\n",
       "Saint-Petersburg    18512\n",
       "Name: user_id, dtype: int64"
      ]
     },
     "execution_count": 23,
     "metadata": {},
     "output_type": "execute_result"
    }
   ],
   "source": [
    "# подсчёт прослушиваний в каждом городе\n",
    "df.groupby('city')['user_id'].count()"
   ]
  },
  {
   "cell_type": "markdown",
   "metadata": {},
   "source": [
    "В Москве прослушиваний больше, чем в Петербурге. Однако из этого не следует, что московские пользователи чаще слушают музыку. Просто самих пользователей в Москве больше."
   ]
  },
  {
   "cell_type": "code",
   "execution_count": 24,
   "metadata": {
    "deletable": false,
    "id": "uZMKjiJz_Zcu"
   },
   "outputs": [
    {
     "data": {
      "text/plain": [
       "day\n",
       "Friday       21840\n",
       "Monday       21354\n",
       "Wednesday    18059\n",
       "Name: user_id, dtype: int64"
      ]
     },
     "execution_count": 24,
     "metadata": {},
     "output_type": "execute_result"
    }
   ],
   "source": [
    "# подсчёт прослушиваний в каждый из трёх дней\n",
    "df.groupby('day')['user_id'].count()"
   ]
  },
  {
   "cell_type": "markdown",
   "metadata": {},
   "source": [
    "В среднем пользователи из двух городов менее активны по средам. Но картина может измениться, если рассмотреть каждый город в отдельности."
   ]
  },
  {
   "cell_type": "code",
   "execution_count": 25,
   "metadata": {},
   "outputs": [
    {
     "data": {
      "text/html": [
       "<div>\n",
       "<style scoped>\n",
       "    .dataframe tbody tr th:only-of-type {\n",
       "        vertical-align: middle;\n",
       "    }\n",
       "\n",
       "    .dataframe tbody tr th {\n",
       "        vertical-align: top;\n",
       "    }\n",
       "\n",
       "    .dataframe thead th {\n",
       "        text-align: right;\n",
       "    }\n",
       "</style>\n",
       "<table border=\"1\" class=\"dataframe\">\n",
       "  <thead>\n",
       "    <tr style=\"text-align: right;\">\n",
       "      <th>day</th>\n",
       "      <th>Monday</th>\n",
       "      <th>Wednesday</th>\n",
       "      <th>Friday</th>\n",
       "    </tr>\n",
       "    <tr>\n",
       "      <th>city</th>\n",
       "      <th></th>\n",
       "      <th></th>\n",
       "      <th></th>\n",
       "    </tr>\n",
       "  </thead>\n",
       "  <tbody>\n",
       "    <tr>\n",
       "      <th>Moscow</th>\n",
       "      <td>15740</td>\n",
       "      <td>11056</td>\n",
       "      <td>15945</td>\n",
       "    </tr>\n",
       "    <tr>\n",
       "      <th>Saint-Petersburg</th>\n",
       "      <td>5614</td>\n",
       "      <td>7003</td>\n",
       "      <td>5895</td>\n",
       "    </tr>\n",
       "  </tbody>\n",
       "</table>\n",
       "</div>"
      ],
      "text/plain": [
       "day               Monday  Wednesday  Friday\n",
       "city                                       \n",
       "Moscow             15740      11056   15945\n",
       "Saint-Petersburg    5614       7003    5895"
      ]
     },
     "execution_count": 25,
     "metadata": {},
     "output_type": "execute_result"
    }
   ],
   "source": [
    "# подсчёт прослушиваний в каждом городе в каждый из дней\n",
    "(df.groupby(['city', 'day'])['user_id'].count()\n",
    "   # переводим 2-й уровень индекса в столбец и меняем порядок столбцов\n",
    "   .unstack('day').iloc[:, [1, 2, 0]])"
   ]
  },
  {
   "cell_type": "markdown",
   "metadata": {
    "deletable": false,
    "editable": false,
    "id": "-EgPIHYu_Zcu"
   },
   "source": [
    "**Выводы**\n",
    "\n",
    "Данные показывают разницу поведения пользователей:\n",
    "\n",
    "- В Москве пик прослушиваний приходится на понедельник и пятницу, а в среду заметен спад.\n",
    "- В Петербурге, наоборот, больше слушают музыку по средам. Активность в понедельник и пятницу здесь почти в равной мере уступает среде.\n",
    "\n",
    "Значит, данные говорят в пользу первой гипотезы."
   ]
  },
  {
   "cell_type": "markdown",
   "metadata": {
    "deletable": false,
    "editable": false,
    "id": "atZAxtq4_Zcu"
   },
   "source": [
    "### Музыка в начале и в конце недели"
   ]
  },
  {
   "cell_type": "markdown",
   "metadata": {
    "deletable": false,
    "editable": false,
    "id": "eXrQqXFH_Zcu"
   },
   "source": [
    "Согласно второй гипотезе, утром в понедельник в Москве преобладают одни жанры, а в Петербурге — другие. Так же и вечером пятницы преобладают разные жанры — в зависимости от города."
   ]
  },
  {
   "cell_type": "code",
   "execution_count": 26,
   "metadata": {
    "deletable": false,
    "id": "qeaFfM_P_Zcu"
   },
   "outputs": [],
   "source": [
    "# получение таблицы moscow_general из тех строк таблицы df, \n",
    "# для которых значение в столбце 'city' равно 'Moscow'\n",
    "moscow_general = df[df['city'] == 'Moscow']"
   ]
  },
  {
   "cell_type": "code",
   "execution_count": 27,
   "metadata": {
    "deletable": false,
    "id": "ORaVRKto_Zcu"
   },
   "outputs": [],
   "source": [
    "# получение таблицы spb_general из тех строк таблицы df, \n",
    "# для которых значение в столбце 'city' равно 'Saint-Petersburg'\n",
    "spb_general = df[df['city'] == 'Saint-Petersburg']"
   ]
  },
  {
   "cell_type": "code",
   "execution_count": 28,
   "metadata": {},
   "outputs": [],
   "source": [
    "# времена суток \n",
    "times = {\n",
    "    'morning': ['07:00:00', '11:00:00'], \n",
    "    'evening': ['17:00:00', '23:00:00'],\n",
    "    'whole day': ['00:00:00', '23:59:59']\n",
    "}\n",
    "# количество позиций в рейтинге\n",
    "top_n = 10"
   ]
  },
  {
   "cell_type": "code",
   "execution_count": 29,
   "metadata": {},
   "outputs": [],
   "source": [
    "def genre_weekday(df, day, time1, time2):\n",
    "    result = (\n",
    "        df\n",
    "        .query(\"day == @day and @time1 < time < @time2\")\n",
    "        .groupby('genre')['user_id'].count()\n",
    "        .sort_values(ascending=False)[:top_n]\n",
    "        .reset_index()\n",
    "        .rename(columns={'user_id': 'play_count'})\n",
    "    )\n",
    "\n",
    "    return result"
   ]
  },
  {
   "cell_type": "code",
   "execution_count": 30,
   "metadata": {},
   "outputs": [],
   "source": [
    "# функция, которая возвращает датафрейм со сравнением рейтингов по городам в заданный день и время суток\n",
    "def genre_weekday_table(df, cities, day, daytime='whole day', in_percent=False):\n",
    "    data = []\n",
    "    for city in cities:\n",
    "        df_city = df[df['city'] == city]\n",
    "        time1, time2 = times.get(daytime, times['whole day'])\n",
    "        item = genre_weekday(df_city, day, time1, time2)\n",
    "        if in_percent:\n",
    "            total_tracks = item['play_count'].sum()\n",
    "            item['play_count'] /= total_tracks\n",
    "            item['play_count'] = item['play_count'].mul(100).round(2)\n",
    "            item = item.rename(columns={'play_count': 'percent'})\n",
    "        data.append(item)\n",
    "    result = pd.concat(data, axis='columns', keys=cities)\n",
    "    return result"
   ]
  },
  {
   "cell_type": "code",
   "execution_count": 31,
   "metadata": {},
   "outputs": [],
   "source": [
    "cities = ['Moscow', 'Saint-Petersburg']"
   ]
  },
  {
   "cell_type": "code",
   "execution_count": 32,
   "metadata": {},
   "outputs": [
    {
     "data": {
      "text/html": [
       "<div>\n",
       "<style scoped>\n",
       "    .dataframe tbody tr th:only-of-type {\n",
       "        vertical-align: middle;\n",
       "    }\n",
       "\n",
       "    .dataframe tbody tr th {\n",
       "        vertical-align: top;\n",
       "    }\n",
       "\n",
       "    .dataframe thead tr th {\n",
       "        text-align: left;\n",
       "    }\n",
       "</style>\n",
       "<table border=\"1\" class=\"dataframe\">\n",
       "  <thead>\n",
       "    <tr>\n",
       "      <th></th>\n",
       "      <th colspan=\"2\" halign=\"left\">Moscow</th>\n",
       "      <th colspan=\"2\" halign=\"left\">Saint-Petersburg</th>\n",
       "    </tr>\n",
       "    <tr>\n",
       "      <th></th>\n",
       "      <th>genre</th>\n",
       "      <th>play_count</th>\n",
       "      <th>genre</th>\n",
       "      <th>play_count</th>\n",
       "    </tr>\n",
       "  </thead>\n",
       "  <tbody>\n",
       "    <tr>\n",
       "      <th>0</th>\n",
       "      <td>pop</td>\n",
       "      <td>781</td>\n",
       "      <td>pop</td>\n",
       "      <td>218</td>\n",
       "    </tr>\n",
       "    <tr>\n",
       "      <th>1</th>\n",
       "      <td>dance</td>\n",
       "      <td>549</td>\n",
       "      <td>dance</td>\n",
       "      <td>182</td>\n",
       "    </tr>\n",
       "    <tr>\n",
       "      <th>2</th>\n",
       "      <td>electronic</td>\n",
       "      <td>480</td>\n",
       "      <td>rock</td>\n",
       "      <td>162</td>\n",
       "    </tr>\n",
       "    <tr>\n",
       "      <th>3</th>\n",
       "      <td>rock</td>\n",
       "      <td>474</td>\n",
       "      <td>electronic</td>\n",
       "      <td>147</td>\n",
       "    </tr>\n",
       "    <tr>\n",
       "      <th>4</th>\n",
       "      <td>hiphop</td>\n",
       "      <td>286</td>\n",
       "      <td>hiphop</td>\n",
       "      <td>80</td>\n",
       "    </tr>\n",
       "    <tr>\n",
       "      <th>5</th>\n",
       "      <td>ruspop</td>\n",
       "      <td>186</td>\n",
       "      <td>ruspop</td>\n",
       "      <td>64</td>\n",
       "    </tr>\n",
       "    <tr>\n",
       "      <th>6</th>\n",
       "      <td>world</td>\n",
       "      <td>181</td>\n",
       "      <td>alternative</td>\n",
       "      <td>58</td>\n",
       "    </tr>\n",
       "    <tr>\n",
       "      <th>7</th>\n",
       "      <td>rusrap</td>\n",
       "      <td>175</td>\n",
       "      <td>rusrap</td>\n",
       "      <td>55</td>\n",
       "    </tr>\n",
       "    <tr>\n",
       "      <th>8</th>\n",
       "      <td>alternative</td>\n",
       "      <td>164</td>\n",
       "      <td>jazz</td>\n",
       "      <td>44</td>\n",
       "    </tr>\n",
       "    <tr>\n",
       "      <th>9</th>\n",
       "      <td>unknown</td>\n",
       "      <td>161</td>\n",
       "      <td>classical</td>\n",
       "      <td>40</td>\n",
       "    </tr>\n",
       "  </tbody>\n",
       "</table>\n",
       "</div>"
      ],
      "text/plain": [
       "        Moscow            Saint-Petersburg           \n",
       "         genre play_count            genre play_count\n",
       "0          pop        781              pop        218\n",
       "1        dance        549            dance        182\n",
       "2   electronic        480             rock        162\n",
       "3         rock        474       electronic        147\n",
       "4       hiphop        286           hiphop         80\n",
       "5       ruspop        186           ruspop         64\n",
       "6        world        181      alternative         58\n",
       "7       rusrap        175           rusrap         55\n",
       "8  alternative        164             jazz         44\n",
       "9      unknown        161        classical         40"
      ]
     },
     "execution_count": 32,
     "metadata": {},
     "output_type": "execute_result"
    }
   ],
   "source": [
    "# сравнение топ-10 жанров в понедельник утром\n",
    "genre_weekday_table(df, cities, 'Monday', 'morning')"
   ]
  },
  {
   "cell_type": "code",
   "execution_count": 33,
   "metadata": {},
   "outputs": [
    {
     "data": {
      "text/html": [
       "<div>\n",
       "<style scoped>\n",
       "    .dataframe tbody tr th:only-of-type {\n",
       "        vertical-align: middle;\n",
       "    }\n",
       "\n",
       "    .dataframe tbody tr th {\n",
       "        vertical-align: top;\n",
       "    }\n",
       "\n",
       "    .dataframe thead tr th {\n",
       "        text-align: left;\n",
       "    }\n",
       "</style>\n",
       "<table border=\"1\" class=\"dataframe\">\n",
       "  <thead>\n",
       "    <tr>\n",
       "      <th></th>\n",
       "      <th colspan=\"2\" halign=\"left\">Moscow</th>\n",
       "      <th colspan=\"2\" halign=\"left\">Saint-Petersburg</th>\n",
       "    </tr>\n",
       "    <tr>\n",
       "      <th></th>\n",
       "      <th>genre</th>\n",
       "      <th>play_count</th>\n",
       "      <th>genre</th>\n",
       "      <th>play_count</th>\n",
       "    </tr>\n",
       "  </thead>\n",
       "  <tbody>\n",
       "    <tr>\n",
       "      <th>0</th>\n",
       "      <td>pop</td>\n",
       "      <td>713</td>\n",
       "      <td>pop</td>\n",
       "      <td>256</td>\n",
       "    </tr>\n",
       "    <tr>\n",
       "      <th>1</th>\n",
       "      <td>rock</td>\n",
       "      <td>517</td>\n",
       "      <td>electronic</td>\n",
       "      <td>216</td>\n",
       "    </tr>\n",
       "    <tr>\n",
       "      <th>2</th>\n",
       "      <td>dance</td>\n",
       "      <td>495</td>\n",
       "      <td>rock</td>\n",
       "      <td>216</td>\n",
       "    </tr>\n",
       "    <tr>\n",
       "      <th>3</th>\n",
       "      <td>electronic</td>\n",
       "      <td>482</td>\n",
       "      <td>dance</td>\n",
       "      <td>210</td>\n",
       "    </tr>\n",
       "    <tr>\n",
       "      <th>4</th>\n",
       "      <td>hiphop</td>\n",
       "      <td>273</td>\n",
       "      <td>hiphop</td>\n",
       "      <td>97</td>\n",
       "    </tr>\n",
       "    <tr>\n",
       "      <th>5</th>\n",
       "      <td>world</td>\n",
       "      <td>208</td>\n",
       "      <td>alternative</td>\n",
       "      <td>63</td>\n",
       "    </tr>\n",
       "    <tr>\n",
       "      <th>6</th>\n",
       "      <td>ruspop</td>\n",
       "      <td>170</td>\n",
       "      <td>jazz</td>\n",
       "      <td>61</td>\n",
       "    </tr>\n",
       "    <tr>\n",
       "      <th>7</th>\n",
       "      <td>alternative</td>\n",
       "      <td>163</td>\n",
       "      <td>classical</td>\n",
       "      <td>60</td>\n",
       "    </tr>\n",
       "    <tr>\n",
       "      <th>8</th>\n",
       "      <td>classical</td>\n",
       "      <td>163</td>\n",
       "      <td>rusrap</td>\n",
       "      <td>59</td>\n",
       "    </tr>\n",
       "    <tr>\n",
       "      <th>9</th>\n",
       "      <td>rusrap</td>\n",
       "      <td>142</td>\n",
       "      <td>world</td>\n",
       "      <td>54</td>\n",
       "    </tr>\n",
       "  </tbody>\n",
       "</table>\n",
       "</div>"
      ],
      "text/plain": [
       "        Moscow            Saint-Petersburg           \n",
       "         genre play_count            genre play_count\n",
       "0          pop        713              pop        256\n",
       "1         rock        517       electronic        216\n",
       "2        dance        495             rock        216\n",
       "3   electronic        482            dance        210\n",
       "4       hiphop        273           hiphop         97\n",
       "5        world        208      alternative         63\n",
       "6       ruspop        170             jazz         61\n",
       "7  alternative        163        classical         60\n",
       "8    classical        163           rusrap         59\n",
       "9       rusrap        142            world         54"
      ]
     },
     "execution_count": 33,
     "metadata": {},
     "output_type": "execute_result"
    }
   ],
   "source": [
    "# сравнение топ-10 жанров в пятницу вечером\n",
    "genre_weekday_table(df, cities, 'Friday', 'evening')"
   ]
  },
  {
   "cell_type": "markdown",
   "metadata": {},
   "source": [
    "Сравнение двух городов будет информативнее, если количество прослушиваний в таблицах представить в относительных единицах - процентах от общего количества прослушиваний в заданный временной промежуток в данном городе."
   ]
  },
  {
   "cell_type": "code",
   "execution_count": 34,
   "metadata": {},
   "outputs": [
    {
     "data": {
      "text/html": [
       "<div>\n",
       "<style scoped>\n",
       "    .dataframe tbody tr th:only-of-type {\n",
       "        vertical-align: middle;\n",
       "    }\n",
       "\n",
       "    .dataframe tbody tr th {\n",
       "        vertical-align: top;\n",
       "    }\n",
       "\n",
       "    .dataframe thead tr th {\n",
       "        text-align: left;\n",
       "    }\n",
       "</style>\n",
       "<table border=\"1\" class=\"dataframe\">\n",
       "  <thead>\n",
       "    <tr>\n",
       "      <th></th>\n",
       "      <th colspan=\"2\" halign=\"left\">Moscow</th>\n",
       "      <th colspan=\"2\" halign=\"left\">Saint-Petersburg</th>\n",
       "    </tr>\n",
       "    <tr>\n",
       "      <th></th>\n",
       "      <th>genre</th>\n",
       "      <th>percent</th>\n",
       "      <th>genre</th>\n",
       "      <th>percent</th>\n",
       "    </tr>\n",
       "  </thead>\n",
       "  <tbody>\n",
       "    <tr>\n",
       "      <th>0</th>\n",
       "      <td>pop</td>\n",
       "      <td>22.72</td>\n",
       "      <td>pop</td>\n",
       "      <td>20.76</td>\n",
       "    </tr>\n",
       "    <tr>\n",
       "      <th>1</th>\n",
       "      <td>dance</td>\n",
       "      <td>15.97</td>\n",
       "      <td>dance</td>\n",
       "      <td>17.33</td>\n",
       "    </tr>\n",
       "    <tr>\n",
       "      <th>2</th>\n",
       "      <td>electronic</td>\n",
       "      <td>13.97</td>\n",
       "      <td>rock</td>\n",
       "      <td>15.43</td>\n",
       "    </tr>\n",
       "    <tr>\n",
       "      <th>3</th>\n",
       "      <td>rock</td>\n",
       "      <td>13.79</td>\n",
       "      <td>electronic</td>\n",
       "      <td>14.00</td>\n",
       "    </tr>\n",
       "    <tr>\n",
       "      <th>4</th>\n",
       "      <td>hiphop</td>\n",
       "      <td>8.32</td>\n",
       "      <td>hiphop</td>\n",
       "      <td>7.62</td>\n",
       "    </tr>\n",
       "    <tr>\n",
       "      <th>5</th>\n",
       "      <td>ruspop</td>\n",
       "      <td>5.41</td>\n",
       "      <td>ruspop</td>\n",
       "      <td>6.10</td>\n",
       "    </tr>\n",
       "    <tr>\n",
       "      <th>6</th>\n",
       "      <td>world</td>\n",
       "      <td>5.27</td>\n",
       "      <td>alternative</td>\n",
       "      <td>5.52</td>\n",
       "    </tr>\n",
       "    <tr>\n",
       "      <th>7</th>\n",
       "      <td>rusrap</td>\n",
       "      <td>5.09</td>\n",
       "      <td>rusrap</td>\n",
       "      <td>5.24</td>\n",
       "    </tr>\n",
       "    <tr>\n",
       "      <th>8</th>\n",
       "      <td>alternative</td>\n",
       "      <td>4.77</td>\n",
       "      <td>jazz</td>\n",
       "      <td>4.19</td>\n",
       "    </tr>\n",
       "    <tr>\n",
       "      <th>9</th>\n",
       "      <td>unknown</td>\n",
       "      <td>4.68</td>\n",
       "      <td>classical</td>\n",
       "      <td>3.81</td>\n",
       "    </tr>\n",
       "  </tbody>\n",
       "</table>\n",
       "</div>"
      ],
      "text/plain": [
       "        Moscow         Saint-Petersburg        \n",
       "         genre percent            genre percent\n",
       "0          pop   22.72              pop   20.76\n",
       "1        dance   15.97            dance   17.33\n",
       "2   electronic   13.97             rock   15.43\n",
       "3         rock   13.79       electronic   14.00\n",
       "4       hiphop    8.32           hiphop    7.62\n",
       "5       ruspop    5.41           ruspop    6.10\n",
       "6        world    5.27      alternative    5.52\n",
       "7       rusrap    5.09           rusrap    5.24\n",
       "8  alternative    4.77             jazz    4.19\n",
       "9      unknown    4.68        classical    3.81"
      ]
     },
     "execution_count": 34,
     "metadata": {},
     "output_type": "execute_result"
    }
   ],
   "source": [
    "# сравнение топ-10 жанров в понедельник утром в процентах\n",
    "genre_weekday_table(df, cities, 'Monday', 'morning', in_percent=True)"
   ]
  },
  {
   "cell_type": "code",
   "execution_count": 35,
   "metadata": {},
   "outputs": [
    {
     "data": {
      "text/html": [
       "<div>\n",
       "<style scoped>\n",
       "    .dataframe tbody tr th:only-of-type {\n",
       "        vertical-align: middle;\n",
       "    }\n",
       "\n",
       "    .dataframe tbody tr th {\n",
       "        vertical-align: top;\n",
       "    }\n",
       "\n",
       "    .dataframe thead tr th {\n",
       "        text-align: left;\n",
       "    }\n",
       "</style>\n",
       "<table border=\"1\" class=\"dataframe\">\n",
       "  <thead>\n",
       "    <tr>\n",
       "      <th></th>\n",
       "      <th colspan=\"2\" halign=\"left\">Moscow</th>\n",
       "      <th colspan=\"2\" halign=\"left\">Saint-Petersburg</th>\n",
       "    </tr>\n",
       "    <tr>\n",
       "      <th></th>\n",
       "      <th>genre</th>\n",
       "      <th>percent</th>\n",
       "      <th>genre</th>\n",
       "      <th>percent</th>\n",
       "    </tr>\n",
       "  </thead>\n",
       "  <tbody>\n",
       "    <tr>\n",
       "      <th>0</th>\n",
       "      <td>pop</td>\n",
       "      <td>21.44</td>\n",
       "      <td>pop</td>\n",
       "      <td>19.81</td>\n",
       "    </tr>\n",
       "    <tr>\n",
       "      <th>1</th>\n",
       "      <td>rock</td>\n",
       "      <td>15.54</td>\n",
       "      <td>electronic</td>\n",
       "      <td>16.72</td>\n",
       "    </tr>\n",
       "    <tr>\n",
       "      <th>2</th>\n",
       "      <td>dance</td>\n",
       "      <td>14.88</td>\n",
       "      <td>rock</td>\n",
       "      <td>16.72</td>\n",
       "    </tr>\n",
       "    <tr>\n",
       "      <th>3</th>\n",
       "      <td>electronic</td>\n",
       "      <td>14.49</td>\n",
       "      <td>dance</td>\n",
       "      <td>16.25</td>\n",
       "    </tr>\n",
       "    <tr>\n",
       "      <th>4</th>\n",
       "      <td>hiphop</td>\n",
       "      <td>8.21</td>\n",
       "      <td>hiphop</td>\n",
       "      <td>7.51</td>\n",
       "    </tr>\n",
       "    <tr>\n",
       "      <th>5</th>\n",
       "      <td>world</td>\n",
       "      <td>6.25</td>\n",
       "      <td>alternative</td>\n",
       "      <td>4.88</td>\n",
       "    </tr>\n",
       "    <tr>\n",
       "      <th>6</th>\n",
       "      <td>ruspop</td>\n",
       "      <td>5.11</td>\n",
       "      <td>jazz</td>\n",
       "      <td>4.72</td>\n",
       "    </tr>\n",
       "    <tr>\n",
       "      <th>7</th>\n",
       "      <td>alternative</td>\n",
       "      <td>4.90</td>\n",
       "      <td>classical</td>\n",
       "      <td>4.64</td>\n",
       "    </tr>\n",
       "    <tr>\n",
       "      <th>8</th>\n",
       "      <td>classical</td>\n",
       "      <td>4.90</td>\n",
       "      <td>rusrap</td>\n",
       "      <td>4.57</td>\n",
       "    </tr>\n",
       "    <tr>\n",
       "      <th>9</th>\n",
       "      <td>rusrap</td>\n",
       "      <td>4.27</td>\n",
       "      <td>world</td>\n",
       "      <td>4.18</td>\n",
       "    </tr>\n",
       "  </tbody>\n",
       "</table>\n",
       "</div>"
      ],
      "text/plain": [
       "        Moscow         Saint-Petersburg        \n",
       "         genre percent            genre percent\n",
       "0          pop   21.44              pop   19.81\n",
       "1         rock   15.54       electronic   16.72\n",
       "2        dance   14.88             rock   16.72\n",
       "3   electronic   14.49            dance   16.25\n",
       "4       hiphop    8.21           hiphop    7.51\n",
       "5        world    6.25      alternative    4.88\n",
       "6       ruspop    5.11             jazz    4.72\n",
       "7  alternative    4.90        classical    4.64\n",
       "8    classical    4.90           rusrap    4.57\n",
       "9       rusrap    4.27            world    4.18"
      ]
     },
     "execution_count": 35,
     "metadata": {},
     "output_type": "execute_result"
    }
   ],
   "source": [
    "# сравнение топ-10 жанров в пятницу вечером\n",
    "genre_weekday_table(df, cities, 'Friday', 'evening', in_percent=True)"
   ]
  },
  {
   "cell_type": "markdown",
   "metadata": {
    "deletable": false,
    "editable": false,
    "id": "wrCe4MNX_Zcu"
   },
   "source": [
    "**Выводы**\n",
    "\n",
    "Если сравнить топ-10 жанров в понедельник утром, можно сделать такие выводы:\n",
    "\n",
    "1. В Москве и Петербурге слушают похожую музыку. Единственное различие — в московский рейтинг вошёл жанр “world”, а в петербургский — джаз и классика.\n",
    "\n",
    "2. В Москве пропущенных значений оказалось так много, что значение `'unknown'` заняло десятое место среди самых популярных жанров. Значит, пропущенные значения занимают существенную долю в данных и угрожают достоверности исследования.\n",
    "\n",
    "Вечер пятницы не меняет эту картину. Некоторые жанры поднимаются немного выше, другие спускаются, но в целом топ-10 остаётся тем же самым:\n",
    "\n",
    "1. И в понедельник утром, и в пятницу вечером топ-10 жанров в Москве и Петербурге практически полностью совпадают. \n",
    "\n",
    "2. В Петербурге в топ-10 в обоих случаях попал джаз, а в Москве - нет.\n",
    "\n",
    "3. В Москве жанр \"world\" популярнее, чем в Петербурге.\n",
    "\n",
    "\n",
    "Таким образом, вторая гипотеза подтвердилась лишь частично:\n",
    "* Пользователи слушают похожую музыку в начале недели и в конце.\n",
    "* Разница между Москвой и Петербургом не слишком выражена. В Москве чаще слушают русскую популярную музыку, в Петербурге — джаз.\n",
    "\n",
    "Однако пропуски в данных ставят под сомнение этот результат. В Москве их так много, что рейтинг топ-10 мог бы выглядеть иначе, если бы не утерянные  данные о жанрах."
   ]
  },
  {
   "cell_type": "markdown",
   "metadata": {
    "deletable": false,
    "editable": false,
    "id": "JolODAqr_Zcu"
   },
   "source": [
    "### Жанровые предпочтения в Москве и Петербурге\n",
    "\n",
    "Гипотеза: Петербург — столица рэпа, музыку этого жанра там слушают чаще, чем в Москве.  А Москва — город контрастов, в котором, тем не менее, преобладает поп-музыка."
   ]
  },
  {
   "cell_type": "code",
   "execution_count": 36,
   "metadata": {},
   "outputs": [],
   "source": [
    "# функция возвращает n самых популярных жанров для заданного города и количество прослушиваний для каждого жанра\n",
    "def top_genres(df, city, n=10, in_percent=False):\n",
    "    df_city = df[df['city'] == city]\n",
    "    tracks_by_genre = (\n",
    "        df_city\n",
    "        .groupby('genre')['user_id'].count()\n",
    "        .sort_values(ascending=False)\n",
    "        .head(n)\n",
    "        .rename('play_count')\n",
    "    )\n",
    "    if in_percent:\n",
    "        total_tracks = df_city['genre'].count()\n",
    "        # tracks_by_genre /= total_tracks/100\n",
    "        # tracks_by_genre = tracks_by_genre.rename('percent')\n",
    "\n",
    "        tracks_by_genre /= total_tracks\n",
    "        tracks_by_genre = tracks_by_genre.mul(100).round(2)\n",
    "        tracks_by_genre = tracks_by_genre.rename('percent')\n",
    "        \n",
    "    return tracks_by_genre"
   ]
  },
  {
   "cell_type": "code",
   "execution_count": 37,
   "metadata": {},
   "outputs": [
    {
     "data": {
      "text/html": [
       "<div>\n",
       "<style scoped>\n",
       "    .dataframe tbody tr th:only-of-type {\n",
       "        vertical-align: middle;\n",
       "    }\n",
       "\n",
       "    .dataframe tbody tr th {\n",
       "        vertical-align: top;\n",
       "    }\n",
       "\n",
       "    .dataframe thead tr th {\n",
       "        text-align: left;\n",
       "    }\n",
       "</style>\n",
       "<table border=\"1\" class=\"dataframe\">\n",
       "  <thead>\n",
       "    <tr>\n",
       "      <th></th>\n",
       "      <th colspan=\"2\" halign=\"left\">Moscow</th>\n",
       "      <th colspan=\"2\" halign=\"left\">Saint-Petersburg</th>\n",
       "    </tr>\n",
       "    <tr>\n",
       "      <th></th>\n",
       "      <th>genre</th>\n",
       "      <th>play_count</th>\n",
       "      <th>genre</th>\n",
       "      <th>play_count</th>\n",
       "    </tr>\n",
       "  </thead>\n",
       "  <tbody>\n",
       "    <tr>\n",
       "      <th>0</th>\n",
       "      <td>pop</td>\n",
       "      <td>5893</td>\n",
       "      <td>pop</td>\n",
       "      <td>2431</td>\n",
       "    </tr>\n",
       "    <tr>\n",
       "      <th>1</th>\n",
       "      <td>dance</td>\n",
       "      <td>4435</td>\n",
       "      <td>dance</td>\n",
       "      <td>1932</td>\n",
       "    </tr>\n",
       "    <tr>\n",
       "      <th>2</th>\n",
       "      <td>rock</td>\n",
       "      <td>3965</td>\n",
       "      <td>rock</td>\n",
       "      <td>1879</td>\n",
       "    </tr>\n",
       "    <tr>\n",
       "      <th>3</th>\n",
       "      <td>electronic</td>\n",
       "      <td>3786</td>\n",
       "      <td>electronic</td>\n",
       "      <td>1737</td>\n",
       "    </tr>\n",
       "    <tr>\n",
       "      <th>4</th>\n",
       "      <td>hiphop</td>\n",
       "      <td>2096</td>\n",
       "      <td>hiphop</td>\n",
       "      <td>960</td>\n",
       "    </tr>\n",
       "    <tr>\n",
       "      <th>5</th>\n",
       "      <td>classical</td>\n",
       "      <td>1616</td>\n",
       "      <td>alternative</td>\n",
       "      <td>649</td>\n",
       "    </tr>\n",
       "    <tr>\n",
       "      <th>6</th>\n",
       "      <td>world</td>\n",
       "      <td>1432</td>\n",
       "      <td>classical</td>\n",
       "      <td>646</td>\n",
       "    </tr>\n",
       "    <tr>\n",
       "      <th>7</th>\n",
       "      <td>alternative</td>\n",
       "      <td>1379</td>\n",
       "      <td>rusrap</td>\n",
       "      <td>564</td>\n",
       "    </tr>\n",
       "    <tr>\n",
       "      <th>8</th>\n",
       "      <td>ruspop</td>\n",
       "      <td>1372</td>\n",
       "      <td>ruspop</td>\n",
       "      <td>538</td>\n",
       "    </tr>\n",
       "    <tr>\n",
       "      <th>9</th>\n",
       "      <td>rusrap</td>\n",
       "      <td>1161</td>\n",
       "      <td>world</td>\n",
       "      <td>515</td>\n",
       "    </tr>\n",
       "  </tbody>\n",
       "</table>\n",
       "</div>"
      ],
      "text/plain": [
       "        Moscow            Saint-Petersburg           \n",
       "         genre play_count            genre play_count\n",
       "0          pop       5893              pop       2431\n",
       "1        dance       4435            dance       1932\n",
       "2         rock       3965             rock       1879\n",
       "3   electronic       3786       electronic       1737\n",
       "4       hiphop       2096           hiphop        960\n",
       "5    classical       1616      alternative        649\n",
       "6        world       1432        classical        646\n",
       "7  alternative       1379           rusrap        564\n",
       "8       ruspop       1372           ruspop        538\n",
       "9       rusrap       1161            world        515"
      ]
     },
     "execution_count": 37,
     "metadata": {},
     "output_type": "execute_result"
    }
   ],
   "source": [
    "# сравнение топ-10 жанров в Москве и Петербурге\n",
    "top_genres_moscow = top_genres(df, 'Moscow').reset_index()\n",
    "top_genres_spb = top_genres(df, 'Saint-Petersburg').reset_index()\n",
    "pd.concat([top_genres_moscow, top_genres_spb], axis='columns', keys=cities)"
   ]
  },
  {
   "cell_type": "markdown",
   "metadata": {},
   "source": [
    "Сравнение двух городов будет информативнее, если количество прослушиваний в таблицах представить в относительных единицах - процентах от общего количества прослушиваний в заданный временной промежуток в данном городе."
   ]
  },
  {
   "cell_type": "code",
   "execution_count": 38,
   "metadata": {},
   "outputs": [
    {
     "data": {
      "text/html": [
       "<div>\n",
       "<style scoped>\n",
       "    .dataframe tbody tr th:only-of-type {\n",
       "        vertical-align: middle;\n",
       "    }\n",
       "\n",
       "    .dataframe tbody tr th {\n",
       "        vertical-align: top;\n",
       "    }\n",
       "\n",
       "    .dataframe thead tr th {\n",
       "        text-align: left;\n",
       "    }\n",
       "</style>\n",
       "<table border=\"1\" class=\"dataframe\">\n",
       "  <thead>\n",
       "    <tr>\n",
       "      <th></th>\n",
       "      <th colspan=\"2\" halign=\"left\">Moscow</th>\n",
       "      <th colspan=\"2\" halign=\"left\">Saint-Petersburg</th>\n",
       "    </tr>\n",
       "    <tr>\n",
       "      <th></th>\n",
       "      <th>genre</th>\n",
       "      <th>percent</th>\n",
       "      <th>genre</th>\n",
       "      <th>percent</th>\n",
       "    </tr>\n",
       "  </thead>\n",
       "  <tbody>\n",
       "    <tr>\n",
       "      <th>0</th>\n",
       "      <td>pop</td>\n",
       "      <td>13.79</td>\n",
       "      <td>pop</td>\n",
       "      <td>13.13</td>\n",
       "    </tr>\n",
       "    <tr>\n",
       "      <th>1</th>\n",
       "      <td>dance</td>\n",
       "      <td>10.38</td>\n",
       "      <td>dance</td>\n",
       "      <td>10.44</td>\n",
       "    </tr>\n",
       "    <tr>\n",
       "      <th>2</th>\n",
       "      <td>rock</td>\n",
       "      <td>9.28</td>\n",
       "      <td>rock</td>\n",
       "      <td>10.15</td>\n",
       "    </tr>\n",
       "    <tr>\n",
       "      <th>3</th>\n",
       "      <td>electronic</td>\n",
       "      <td>8.86</td>\n",
       "      <td>electronic</td>\n",
       "      <td>9.38</td>\n",
       "    </tr>\n",
       "    <tr>\n",
       "      <th>4</th>\n",
       "      <td>hiphop</td>\n",
       "      <td>4.90</td>\n",
       "      <td>hiphop</td>\n",
       "      <td>5.19</td>\n",
       "    </tr>\n",
       "    <tr>\n",
       "      <th>5</th>\n",
       "      <td>classical</td>\n",
       "      <td>3.78</td>\n",
       "      <td>alternative</td>\n",
       "      <td>3.51</td>\n",
       "    </tr>\n",
       "    <tr>\n",
       "      <th>6</th>\n",
       "      <td>world</td>\n",
       "      <td>3.35</td>\n",
       "      <td>classical</td>\n",
       "      <td>3.49</td>\n",
       "    </tr>\n",
       "    <tr>\n",
       "      <th>7</th>\n",
       "      <td>alternative</td>\n",
       "      <td>3.23</td>\n",
       "      <td>rusrap</td>\n",
       "      <td>3.05</td>\n",
       "    </tr>\n",
       "    <tr>\n",
       "      <th>8</th>\n",
       "      <td>ruspop</td>\n",
       "      <td>3.21</td>\n",
       "      <td>ruspop</td>\n",
       "      <td>2.91</td>\n",
       "    </tr>\n",
       "    <tr>\n",
       "      <th>9</th>\n",
       "      <td>rusrap</td>\n",
       "      <td>2.72</td>\n",
       "      <td>world</td>\n",
       "      <td>2.78</td>\n",
       "    </tr>\n",
       "  </tbody>\n",
       "</table>\n",
       "</div>"
      ],
      "text/plain": [
       "        Moscow         Saint-Petersburg        \n",
       "         genre percent            genre percent\n",
       "0          pop   13.79              pop   13.13\n",
       "1        dance   10.38            dance   10.44\n",
       "2         rock    9.28             rock   10.15\n",
       "3   electronic    8.86       electronic    9.38\n",
       "4       hiphop    4.90           hiphop    5.19\n",
       "5    classical    3.78      alternative    3.51\n",
       "6        world    3.35        classical    3.49\n",
       "7  alternative    3.23           rusrap    3.05\n",
       "8       ruspop    3.21           ruspop    2.91\n",
       "9       rusrap    2.72            world    2.78"
      ]
     },
     "execution_count": 38,
     "metadata": {},
     "output_type": "execute_result"
    }
   ],
   "source": [
    "# сравнение топ-10 жанров в Москве и Петербурге в процентах от общего количества прослушиваний по каждому городу\n",
    "top_genres_moscow = top_genres(df, 'Moscow', in_percent=True).reset_index()\n",
    "top_genres_spb = top_genres(df, 'Saint-Petersburg', in_percent=True).reset_index()\n",
    "pd.concat([top_genres_moscow, top_genres_spb], axis='columns', keys=cities)"
   ]
  },
  {
   "cell_type": "markdown",
   "metadata": {},
   "source": [
    "**Выводы**\n",
    "1. Разница в популярности разных жанров между городами составляет менее 1 %. Поэтому проверка гипотезы, что Москва и Петербург предпочитают разные жанры музыки, требует дополнительных оценок статистической значимости полученных различий.\n",
    "\n",
    "2. Тем не менее, из полученных результатов действительно следует, что в Москве немного чаще слушают музыку в жанре \"поп\" и \"русский поп\", чем в Петербурге, а жанры \"русский рэп\" и \"хипхоп\" в Петербурге немного популярнее, чем в Москве.\n",
    "\n",
    "3. Таким образом, гипотеза частично подтвердилась:\n",
    "    * Поп-музыка — самый популярный жанр в Москве, как и предполагала гипотеза. Более того, в топ-10 жанров встречается близкий жанр — русская популярная музыка.\n",
    "    * Вопреки ожиданиям, рэп почти одинаково популярен в Москве и Петербурге."
   ]
  },
  {
   "cell_type": "markdown",
   "metadata": {
    "deletable": false,
    "editable": false,
    "id": "ykKQ0N65_Zcv"
   },
   "source": [
    "## Итоги исследования"
   ]
  },
  {
   "cell_type": "markdown",
   "metadata": {
    "deletable": false,
    "editable": false,
    "id": "tjUwbHb3_Zcv"
   },
   "source": [
    "В ходе исследования проверены три гипотезы. В результате установлено:\n",
    "\n",
    "1. День недели по-разному влияет на активность пользователей в Москве и Петербурге.\n",
    "\n",
    "   Первая гипотеза полностью подтвердилась.\n",
    "\n",
    "2. Музыкальные предпочтения не сильно меняются в течение недели — будь то Москва или Петербург. Небольшие различия заметны в начале недели, по понедельникам:\n",
    "    * в Москве слушают музыку жанра “world”,\n",
    "    * в Петербурге — джаз и классику.\n",
    "\n",
    "   Таким образом, вторая гипотеза подтвердилась лишь отчасти. Этот результат мог оказаться иным, если бы не пропуски в данных.\n",
    "\n",
    "3. Во вкусах пользователей Москвы и Петербурга больше общего, чем различий. Вопреки ожиданиям, предпочтения жанров в Петербурге напоминают московские.\n",
    "\n",
    "   Третья гипотеза не подтвердилась. Если различия в предпочтениях и существуют, на основной массе пользователей они незаметны.\n",
    "\n",
    "**На практике исследования содержат проверки статистических гипотез.**\n",
    "Из части данных одного сервиса невозможно сделать какие-то выводы о всех пользователях сервиса без методов статистики.\n",
    "Проверки статистических гипотез покажут, насколько они достоверны, исходя из имеющихся данных."
   ]
  }
 ],
 "metadata": {
  "ExecuteTimeLog": [
   {
    "duration": 407,
    "start_time": "2024-09-22T07:48:43.812Z"
   },
   {
    "duration": 114,
    "start_time": "2024-09-22T07:50:51.636Z"
   },
   {
    "duration": 282,
    "start_time": "2024-09-22T07:51:14.653Z"
   },
   {
    "duration": 24,
    "start_time": "2024-09-22T07:52:12.193Z"
   },
   {
    "duration": 35,
    "start_time": "2024-09-22T07:53:39.672Z"
   },
   {
    "duration": 4,
    "start_time": "2024-09-22T08:09:25.343Z"
   },
   {
    "duration": 12,
    "start_time": "2024-09-22T08:15:44.339Z"
   },
   {
    "duration": 3,
    "start_time": "2024-09-22T08:18:21.687Z"
   },
   {
    "duration": 27,
    "start_time": "2024-09-22T08:19:19.544Z"
   },
   {
    "duration": 32,
    "start_time": "2024-09-22T08:26:54.275Z"
   },
   {
    "duration": 30,
    "start_time": "2024-09-22T08:27:42.214Z"
   },
   {
    "duration": 69,
    "start_time": "2024-09-22T08:28:39.783Z"
   },
   {
    "duration": 75,
    "start_time": "2024-09-22T09:53:22.160Z"
   },
   {
    "duration": 384,
    "start_time": "2024-09-22T09:55:44.347Z"
   },
   {
    "duration": 196,
    "start_time": "2024-09-22T09:55:44.733Z"
   },
   {
    "duration": 18,
    "start_time": "2024-09-22T09:55:44.931Z"
   },
   {
    "duration": 47,
    "start_time": "2024-09-22T09:55:44.951Z"
   },
   {
    "duration": 3,
    "start_time": "2024-09-22T09:55:44.999Z"
   },
   {
    "duration": 50,
    "start_time": "2024-09-22T09:55:45.003Z"
   },
   {
    "duration": 37,
    "start_time": "2024-09-22T09:55:45.054Z"
   },
   {
    "duration": 44,
    "start_time": "2024-09-22T09:55:45.093Z"
   },
   {
    "duration": 54,
    "start_time": "2024-09-22T09:55:45.139Z"
   },
   {
    "duration": 44,
    "start_time": "2024-09-22T09:55:45.195Z"
   },
   {
    "duration": 29,
    "start_time": "2024-09-22T09:55:45.241Z"
   },
   {
    "duration": 76,
    "start_time": "2024-09-22T09:55:45.271Z"
   },
   {
    "duration": 75,
    "start_time": "2024-09-22T09:58:11.638Z"
   },
   {
    "duration": 412,
    "start_time": "2024-09-22T09:59:18.032Z"
   },
   {
    "duration": 209,
    "start_time": "2024-09-22T09:59:18.447Z"
   },
   {
    "duration": 18,
    "start_time": "2024-09-22T09:59:18.658Z"
   },
   {
    "duration": 35,
    "start_time": "2024-09-22T09:59:18.678Z"
   },
   {
    "duration": 21,
    "start_time": "2024-09-22T09:59:18.714Z"
   },
   {
    "duration": 8,
    "start_time": "2024-09-22T09:59:18.737Z"
   },
   {
    "duration": 14,
    "start_time": "2024-09-22T09:59:18.747Z"
   },
   {
    "duration": 8,
    "start_time": "2024-09-22T09:59:18.762Z"
   },
   {
    "duration": 33,
    "start_time": "2024-09-22T09:59:18.771Z"
   },
   {
    "duration": 23,
    "start_time": "2024-09-22T09:59:18.806Z"
   },
   {
    "duration": 82,
    "start_time": "2024-09-22T09:59:18.831Z"
   },
   {
    "duration": 95,
    "start_time": "2024-09-22T09:59:18.915Z"
   },
   {
    "duration": 97,
    "start_time": "2024-09-22T09:59:19.011Z"
   },
   {
    "duration": 62,
    "start_time": "2024-09-22T09:59:29.842Z"
   },
   {
    "duration": 46,
    "start_time": "2024-09-22T10:01:53.915Z"
   },
   {
    "duration": 12,
    "start_time": "2024-09-22T10:51:23.357Z"
   },
   {
    "duration": 44,
    "start_time": "2024-09-22T10:53:19.524Z"
   },
   {
    "duration": 6,
    "start_time": "2024-09-22T10:57:58.955Z"
   },
   {
    "duration": 6,
    "start_time": "2024-09-22T11:02:22.922Z"
   },
   {
    "duration": 43,
    "start_time": "2024-09-22T11:02:54.013Z"
   },
   {
    "duration": 14,
    "start_time": "2024-09-22T15:40:33.358Z"
   },
   {
    "duration": 423,
    "start_time": "2024-09-22T15:41:51.662Z"
   },
   {
    "duration": 200,
    "start_time": "2024-09-22T15:41:52.087Z"
   },
   {
    "duration": 23,
    "start_time": "2024-09-22T15:41:52.289Z"
   },
   {
    "duration": 38,
    "start_time": "2024-09-22T15:41:52.314Z"
   },
   {
    "duration": 4,
    "start_time": "2024-09-22T15:41:52.354Z"
   },
   {
    "duration": 5,
    "start_time": "2024-09-22T15:41:52.360Z"
   },
   {
    "duration": 38,
    "start_time": "2024-09-22T15:41:52.367Z"
   },
   {
    "duration": 5,
    "start_time": "2024-09-22T15:41:52.407Z"
   },
   {
    "duration": 40,
    "start_time": "2024-09-22T15:41:52.413Z"
   },
   {
    "duration": 85,
    "start_time": "2024-09-22T15:41:52.456Z"
   },
   {
    "duration": 38,
    "start_time": "2024-09-22T15:41:52.543Z"
   },
   {
    "duration": 88,
    "start_time": "2024-09-22T15:41:52.583Z"
   },
   {
    "duration": 97,
    "start_time": "2024-09-22T15:41:52.672Z"
   },
   {
    "duration": 73,
    "start_time": "2024-09-22T15:41:52.771Z"
   },
   {
    "duration": 61,
    "start_time": "2024-09-22T15:41:52.846Z"
   },
   {
    "duration": 12,
    "start_time": "2024-09-22T15:41:52.909Z"
   },
   {
    "duration": 48,
    "start_time": "2024-09-22T15:41:52.923Z"
   },
   {
    "duration": 3,
    "start_time": "2024-09-22T15:41:52.972Z"
   },
   {
    "duration": 3,
    "start_time": "2024-09-22T15:41:52.997Z"
   },
   {
    "duration": 3,
    "start_time": "2024-09-22T15:41:53.002Z"
   },
   {
    "duration": 13,
    "start_time": "2024-09-22T15:42:10.703Z"
   },
   {
    "duration": 19,
    "start_time": "2024-09-22T15:50:23.836Z"
   },
   {
    "duration": 50,
    "start_time": "2024-09-22T16:11:09.104Z"
   },
   {
    "duration": 5,
    "start_time": "2024-09-22T16:14:40.230Z"
   },
   {
    "duration": 15,
    "start_time": "2024-09-22T16:42:49.085Z"
   },
   {
    "duration": 4,
    "start_time": "2024-09-22T16:48:16.801Z"
   },
   {
    "duration": 21,
    "start_time": "2024-09-22T16:50:03.119Z"
   },
   {
    "duration": 16,
    "start_time": "2024-09-22T16:53:15.519Z"
   },
   {
    "duration": 17,
    "start_time": "2024-09-22T16:53:16.380Z"
   },
   {
    "duration": 16,
    "start_time": "2024-09-22T16:53:17.111Z"
   },
   {
    "duration": 19,
    "start_time": "2024-09-22T16:53:17.932Z"
   },
   {
    "duration": 16,
    "start_time": "2024-09-22T16:53:18.945Z"
   },
   {
    "duration": 16,
    "start_time": "2024-09-22T16:55:20.127Z"
   },
   {
    "duration": 17,
    "start_time": "2024-09-22T17:06:47.467Z"
   },
   {
    "duration": 17,
    "start_time": "2024-09-22T17:07:07.740Z"
   },
   {
    "duration": 18,
    "start_time": "2024-09-22T17:07:36.968Z"
   },
   {
    "duration": 18,
    "start_time": "2024-09-22T17:07:37.594Z"
   },
   {
    "duration": 17,
    "start_time": "2024-09-22T17:07:38.097Z"
   },
   {
    "duration": 15,
    "start_time": "2024-09-22T17:07:38.530Z"
   },
   {
    "duration": 19,
    "start_time": "2024-09-22T17:07:40.602Z"
   },
   {
    "duration": 17,
    "start_time": "2024-09-22T17:07:41.332Z"
   },
   {
    "duration": 390,
    "start_time": "2024-09-22T17:09:24.130Z"
   },
   {
    "duration": 188,
    "start_time": "2024-09-22T17:09:24.522Z"
   },
   {
    "duration": 18,
    "start_time": "2024-09-22T17:09:24.712Z"
   },
   {
    "duration": 34,
    "start_time": "2024-09-22T17:09:24.732Z"
   },
   {
    "duration": 3,
    "start_time": "2024-09-22T17:09:24.768Z"
   },
   {
    "duration": 27,
    "start_time": "2024-09-22T17:09:24.772Z"
   },
   {
    "duration": 14,
    "start_time": "2024-09-22T17:09:24.801Z"
   },
   {
    "duration": 4,
    "start_time": "2024-09-22T17:09:24.817Z"
   },
   {
    "duration": 26,
    "start_time": "2024-09-22T17:09:24.823Z"
   },
   {
    "duration": 20,
    "start_time": "2024-09-22T17:09:24.852Z"
   },
   {
    "duration": 50,
    "start_time": "2024-09-22T17:09:24.874Z"
   },
   {
    "duration": 87,
    "start_time": "2024-09-22T17:09:24.925Z"
   },
   {
    "duration": 90,
    "start_time": "2024-09-22T17:09:25.014Z"
   },
   {
    "duration": 62,
    "start_time": "2024-09-22T17:09:25.106Z"
   },
   {
    "duration": 57,
    "start_time": "2024-09-22T17:09:25.170Z"
   },
   {
    "duration": 11,
    "start_time": "2024-09-22T17:09:25.229Z"
   },
   {
    "duration": 57,
    "start_time": "2024-09-22T17:09:25.242Z"
   },
   {
    "duration": 2,
    "start_time": "2024-09-22T17:09:25.300Z"
   },
   {
    "duration": 12,
    "start_time": "2024-09-22T17:09:25.304Z"
   },
   {
    "duration": 4,
    "start_time": "2024-09-22T17:09:25.317Z"
   },
   {
    "duration": 14,
    "start_time": "2024-09-22T17:09:25.322Z"
   },
   {
    "duration": 12,
    "start_time": "2024-09-22T17:09:25.337Z"
   },
   {
    "duration": 3,
    "start_time": "2024-09-22T17:09:25.351Z"
   },
   {
    "duration": 43,
    "start_time": "2024-09-22T17:09:25.355Z"
   },
   {
    "duration": 16,
    "start_time": "2024-09-22T17:09:25.400Z"
   },
   {
    "duration": 15,
    "start_time": "2024-09-22T17:09:25.417Z"
   },
   {
    "duration": 13,
    "start_time": "2024-09-22T17:09:25.433Z"
   },
   {
    "duration": 20,
    "start_time": "2024-09-22T17:09:25.449Z"
   },
   {
    "duration": 17,
    "start_time": "2024-09-22T17:09:25.498Z"
   },
   {
    "duration": 49,
    "start_time": "2024-09-22T17:17:21.119Z"
   },
   {
    "duration": 68,
    "start_time": "2024-09-22T17:17:32.494Z"
   },
   {
    "duration": 75,
    "start_time": "2024-09-22T17:17:44.291Z"
   },
   {
    "duration": 76,
    "start_time": "2024-09-22T17:18:04.582Z"
   },
   {
    "duration": 75,
    "start_time": "2024-09-22T17:18:20.969Z"
   },
   {
    "duration": 71,
    "start_time": "2024-09-22T17:19:28.139Z"
   },
   {
    "duration": 71,
    "start_time": "2024-09-22T17:19:42.077Z"
   },
   {
    "duration": 74,
    "start_time": "2024-09-22T17:20:02.198Z"
   },
   {
    "duration": 79,
    "start_time": "2024-09-22T17:22:57.211Z"
   },
   {
    "duration": 78,
    "start_time": "2024-09-22T17:24:23.809Z"
   },
   {
    "duration": 79,
    "start_time": "2024-09-22T17:24:38.741Z"
   },
   {
    "duration": 102,
    "start_time": "2024-09-22T17:25:59.212Z"
   },
   {
    "duration": 23,
    "start_time": "2024-09-22T17:48:22.298Z"
   },
   {
    "duration": 388,
    "start_time": "2024-09-23T07:49:06.644Z"
   },
   {
    "duration": 428,
    "start_time": "2024-09-23T07:49:07.034Z"
   },
   {
    "duration": 15,
    "start_time": "2024-09-23T07:49:07.463Z"
   },
   {
    "duration": 52,
    "start_time": "2024-09-23T07:49:07.479Z"
   },
   {
    "duration": 3,
    "start_time": "2024-09-23T07:49:07.532Z"
   },
   {
    "duration": 23,
    "start_time": "2024-09-23T07:49:07.536Z"
   },
   {
    "duration": 18,
    "start_time": "2024-09-23T07:49:07.560Z"
   },
   {
    "duration": 24,
    "start_time": "2024-09-23T07:49:07.579Z"
   },
   {
    "duration": 9,
    "start_time": "2024-09-23T07:49:07.605Z"
   },
   {
    "duration": 25,
    "start_time": "2024-09-23T07:49:07.616Z"
   },
   {
    "duration": 176,
    "start_time": "2024-09-23T07:49:07.642Z"
   },
   {
    "duration": 17,
    "start_time": "2024-09-23T07:49:07.819Z"
   },
   {
    "duration": 14,
    "start_time": "2024-09-23T08:01:14.078Z"
   },
   {
    "duration": 20,
    "start_time": "2024-09-23T08:01:39.899Z"
   },
   {
    "duration": 46,
    "start_time": "2024-09-23T08:02:08.056Z"
   },
   {
    "duration": 59,
    "start_time": "2024-09-23T08:02:19.565Z"
   },
   {
    "duration": 68,
    "start_time": "2024-09-23T08:02:25.796Z"
   },
   {
    "duration": 52,
    "start_time": "2024-09-23T08:02:28.724Z"
   },
   {
    "duration": 37,
    "start_time": "2024-09-23T08:02:34.193Z"
   },
   {
    "duration": 10,
    "start_time": "2024-09-23T08:02:46.899Z"
   },
   {
    "duration": 36,
    "start_time": "2024-09-23T08:02:50.385Z"
   },
   {
    "duration": 16,
    "start_time": "2024-09-23T08:03:01.224Z"
   },
   {
    "duration": 4,
    "start_time": "2024-09-23T08:03:01.892Z"
   },
   {
    "duration": 6,
    "start_time": "2024-09-23T08:03:02.528Z"
   },
   {
    "duration": 37,
    "start_time": "2024-09-23T08:03:05.684Z"
   },
   {
    "duration": 11,
    "start_time": "2024-09-23T08:03:28.152Z"
   },
   {
    "duration": 11,
    "start_time": "2024-09-23T08:04:10.762Z"
   },
   {
    "duration": 9,
    "start_time": "2024-09-23T08:05:40.343Z"
   },
   {
    "duration": 11,
    "start_time": "2024-09-23T08:05:44.629Z"
   },
   {
    "duration": 384,
    "start_time": "2024-09-23T08:10:49.314Z"
   },
   {
    "duration": 151,
    "start_time": "2024-09-23T08:10:49.700Z"
   },
   {
    "duration": 15,
    "start_time": "2024-09-23T08:10:49.852Z"
   },
   {
    "duration": 98,
    "start_time": "2024-09-23T08:10:49.869Z"
   },
   {
    "duration": 14,
    "start_time": "2024-09-23T08:10:49.969Z"
   },
   {
    "duration": 78,
    "start_time": "2024-09-23T08:10:49.984Z"
   },
   {
    "duration": 124,
    "start_time": "2024-09-23T08:10:50.064Z"
   },
   {
    "duration": 39,
    "start_time": "2024-09-23T08:10:50.189Z"
   },
   {
    "duration": 20,
    "start_time": "2024-09-23T08:10:50.230Z"
   },
   {
    "duration": 36,
    "start_time": "2024-09-23T08:10:50.252Z"
   },
   {
    "duration": 171,
    "start_time": "2024-09-23T08:10:50.290Z"
   },
   {
    "duration": 19,
    "start_time": "2024-09-23T08:10:50.462Z"
   },
   {
    "duration": 22,
    "start_time": "2024-09-23T08:10:50.482Z"
   },
   {
    "duration": 33,
    "start_time": "2024-09-23T08:10:50.506Z"
   },
   {
    "duration": 73,
    "start_time": "2024-09-23T08:10:59.982Z"
   },
   {
    "duration": 7,
    "start_time": "2024-09-23T08:15:14.071Z"
   },
   {
    "duration": 14,
    "start_time": "2024-09-23T08:15:38.084Z"
   },
   {
    "duration": 8,
    "start_time": "2024-09-23T08:16:18.863Z"
   },
   {
    "duration": 9,
    "start_time": "2024-09-23T08:16:26.236Z"
   },
   {
    "duration": 22,
    "start_time": "2024-09-23T08:17:43.500Z"
   },
   {
    "duration": 13,
    "start_time": "2024-09-23T08:17:54.093Z"
   },
   {
    "duration": 16,
    "start_time": "2024-09-23T08:18:22.681Z"
   },
   {
    "duration": 9,
    "start_time": "2024-09-23T08:21:18.868Z"
   },
   {
    "duration": 17,
    "start_time": "2024-09-23T08:21:29.870Z"
   },
   {
    "duration": 42,
    "start_time": "2024-09-23T08:21:58.708Z"
   },
   {
    "duration": 59,
    "start_time": "2024-09-23T08:22:07.836Z"
   },
   {
    "duration": 76,
    "start_time": "2024-09-23T08:22:10.727Z"
   },
   {
    "duration": 54,
    "start_time": "2024-09-23T08:22:13.384Z"
   },
   {
    "duration": 35,
    "start_time": "2024-09-23T08:22:16.980Z"
   },
   {
    "duration": 11,
    "start_time": "2024-09-23T08:22:20.323Z"
   },
   {
    "duration": 43,
    "start_time": "2024-09-23T08:22:22.090Z"
   },
   {
    "duration": 9,
    "start_time": "2024-09-23T08:22:26.226Z"
   },
   {
    "duration": 4,
    "start_time": "2024-09-23T08:22:26.890Z"
   },
   {
    "duration": 5,
    "start_time": "2024-09-23T08:22:27.438Z"
   },
   {
    "duration": 54,
    "start_time": "2024-09-23T08:22:29.131Z"
   },
   {
    "duration": 10,
    "start_time": "2024-09-23T08:22:45.089Z"
   },
   {
    "duration": 11,
    "start_time": "2024-09-23T08:24:23.384Z"
   },
   {
    "duration": 10,
    "start_time": "2024-09-23T08:24:28.503Z"
   },
   {
    "duration": 10,
    "start_time": "2024-09-23T08:25:02.995Z"
   },
   {
    "duration": 3,
    "start_time": "2024-09-23T08:25:13.339Z"
   },
   {
    "duration": 13,
    "start_time": "2024-09-23T08:25:17.061Z"
   },
   {
    "duration": 13,
    "start_time": "2024-09-23T08:25:18.017Z"
   },
   {
    "duration": 12,
    "start_time": "2024-09-23T08:25:19.009Z"
   },
   {
    "duration": 12,
    "start_time": "2024-09-23T08:25:20.066Z"
   },
   {
    "duration": 16,
    "start_time": "2024-09-23T08:25:21.520Z"
   },
   {
    "duration": 12,
    "start_time": "2024-09-23T08:25:23.097Z"
   },
   {
    "duration": 56,
    "start_time": "2024-09-23T08:25:30.486Z"
   },
   {
    "duration": 23,
    "start_time": "2024-09-23T08:26:29.030Z"
   },
   {
    "duration": 3,
    "start_time": "2024-09-23T08:38:53.521Z"
   },
   {
    "duration": 8,
    "start_time": "2024-09-23T08:39:06.470Z"
   },
   {
    "duration": 7,
    "start_time": "2024-09-23T08:39:12.797Z"
   },
   {
    "duration": 3,
    "start_time": "2024-09-23T09:16:24.913Z"
   },
   {
    "duration": 13,
    "start_time": "2024-09-23T09:20:26.003Z"
   },
   {
    "duration": 10,
    "start_time": "2024-09-23T09:22:03.121Z"
   },
   {
    "duration": 13,
    "start_time": "2024-09-23T09:22:41.241Z"
   },
   {
    "duration": 10,
    "start_time": "2024-09-23T09:22:47.302Z"
   },
   {
    "duration": 3,
    "start_time": "2024-09-23T11:32:09.816Z"
   },
   {
    "duration": 4,
    "start_time": "2024-09-23T11:33:02.399Z"
   },
   {
    "duration": 3,
    "start_time": "2024-09-23T11:45:28.759Z"
   },
   {
    "duration": 3,
    "start_time": "2024-09-23T11:45:31.986Z"
   },
   {
    "duration": 60,
    "start_time": "2024-09-23T11:45:35.130Z"
   },
   {
    "duration": 99,
    "start_time": "2024-09-23T12:41:00.330Z"
   },
   {
    "duration": 6,
    "start_time": "2024-09-23T12:41:15.014Z"
   },
   {
    "duration": 3,
    "start_time": "2024-09-23T12:41:16.848Z"
   },
   {
    "duration": 3,
    "start_time": "2024-09-23T12:41:19.655Z"
   },
   {
    "duration": 37,
    "start_time": "2024-09-23T12:42:27.280Z"
   },
   {
    "duration": 37,
    "start_time": "2024-09-23T12:43:13.285Z"
   },
   {
    "duration": 33,
    "start_time": "2024-09-23T12:43:48.520Z"
   },
   {
    "duration": 3,
    "start_time": "2024-09-23T15:21:32.697Z"
   },
   {
    "duration": 55,
    "start_time": "2024-09-23T15:21:37.057Z"
   },
   {
    "duration": 3,
    "start_time": "2024-09-23T15:33:01.061Z"
   },
   {
    "duration": 3,
    "start_time": "2024-09-23T15:33:27.841Z"
   },
   {
    "duration": 9,
    "start_time": "2024-09-23T15:38:46.819Z"
   },
   {
    "duration": 5,
    "start_time": "2024-09-23T15:42:02.082Z"
   },
   {
    "duration": 40,
    "start_time": "2024-09-23T15:44:16.978Z"
   },
   {
    "duration": 16,
    "start_time": "2024-09-23T15:44:36.862Z"
   },
   {
    "duration": 36,
    "start_time": "2024-09-23T15:45:01.391Z"
   },
   {
    "duration": 41,
    "start_time": "2024-09-23T15:45:43.199Z"
   },
   {
    "duration": 3,
    "start_time": "2024-09-23T15:48:00.867Z"
   },
   {
    "duration": 37,
    "start_time": "2024-09-23T15:48:06.797Z"
   },
   {
    "duration": 35,
    "start_time": "2024-09-23T15:48:16.823Z"
   },
   {
    "duration": 36,
    "start_time": "2024-09-23T15:49:03.231Z"
   },
   {
    "duration": 7,
    "start_time": "2024-09-23T15:53:49.399Z"
   },
   {
    "duration": 367,
    "start_time": "2024-09-23T15:54:18.922Z"
   },
   {
    "duration": 140,
    "start_time": "2024-09-23T15:54:19.291Z"
   },
   {
    "duration": 14,
    "start_time": "2024-09-23T15:54:19.432Z"
   },
   {
    "duration": 34,
    "start_time": "2024-09-23T15:54:19.448Z"
   },
   {
    "duration": 2,
    "start_time": "2024-09-23T15:54:19.484Z"
   },
   {
    "duration": 14,
    "start_time": "2024-09-23T15:54:19.487Z"
   },
   {
    "duration": 11,
    "start_time": "2024-09-23T15:54:19.502Z"
   },
   {
    "duration": 4,
    "start_time": "2024-09-23T15:54:19.514Z"
   },
   {
    "duration": 4,
    "start_time": "2024-09-23T15:54:19.519Z"
   },
   {
    "duration": 27,
    "start_time": "2024-09-23T15:54:19.524Z"
   },
   {
    "duration": 160,
    "start_time": "2024-09-23T15:54:19.552Z"
   },
   {
    "duration": 17,
    "start_time": "2024-09-23T15:54:19.713Z"
   },
   {
    "duration": 76,
    "start_time": "2024-09-23T15:54:19.731Z"
   },
   {
    "duration": 18,
    "start_time": "2024-09-23T15:54:19.808Z"
   },
   {
    "duration": 7,
    "start_time": "2024-09-23T15:54:19.828Z"
   },
   {
    "duration": 11,
    "start_time": "2024-09-23T15:54:19.836Z"
   },
   {
    "duration": 14,
    "start_time": "2024-09-23T15:54:19.848Z"
   },
   {
    "duration": 51,
    "start_time": "2024-09-23T15:54:19.863Z"
   },
   {
    "duration": 75,
    "start_time": "2024-09-23T15:54:19.915Z"
   },
   {
    "duration": 73,
    "start_time": "2024-09-23T15:54:19.992Z"
   },
   {
    "duration": 53,
    "start_time": "2024-09-23T15:54:20.066Z"
   },
   {
    "duration": 32,
    "start_time": "2024-09-23T15:54:20.121Z"
   },
   {
    "duration": 10,
    "start_time": "2024-09-23T15:54:20.155Z"
   },
   {
    "duration": 59,
    "start_time": "2024-09-23T15:54:20.166Z"
   },
   {
    "duration": 13,
    "start_time": "2024-09-23T15:54:20.227Z"
   },
   {
    "duration": 5,
    "start_time": "2024-09-23T15:54:20.242Z"
   },
   {
    "duration": 5,
    "start_time": "2024-09-23T15:54:20.248Z"
   },
   {
    "duration": 64,
    "start_time": "2024-09-23T15:54:20.256Z"
   },
   {
    "duration": 9,
    "start_time": "2024-09-23T15:54:20.321Z"
   },
   {
    "duration": 8,
    "start_time": "2024-09-23T15:54:20.332Z"
   },
   {
    "duration": 86,
    "start_time": "2024-09-23T15:54:20.341Z"
   },
   {
    "duration": 9,
    "start_time": "2024-09-23T15:54:20.429Z"
   },
   {
    "duration": 3,
    "start_time": "2024-09-23T15:54:20.439Z"
   },
   {
    "duration": 14,
    "start_time": "2024-09-23T15:54:20.443Z"
   },
   {
    "duration": 12,
    "start_time": "2024-09-23T15:54:20.458Z"
   },
   {
    "duration": 11,
    "start_time": "2024-09-23T15:54:20.471Z"
   },
   {
    "duration": 24,
    "start_time": "2024-09-23T15:54:20.483Z"
   },
   {
    "duration": 12,
    "start_time": "2024-09-23T15:54:20.509Z"
   },
   {
    "duration": 15,
    "start_time": "2024-09-23T15:54:20.522Z"
   },
   {
    "duration": 4,
    "start_time": "2024-09-23T15:54:20.539Z"
   },
   {
    "duration": 83,
    "start_time": "2024-09-23T15:54:20.544Z"
   },
   {
    "duration": 16,
    "start_time": "2024-09-23T15:54:20.628Z"
   },
   {
    "duration": 7,
    "start_time": "2024-09-23T15:54:20.645Z"
   },
   {
    "duration": 12,
    "start_time": "2024-09-23T15:54:20.654Z"
   },
   {
    "duration": 3,
    "start_time": "2024-09-23T15:54:20.668Z"
   },
   {
    "duration": 22,
    "start_time": "2024-09-23T15:54:20.672Z"
   },
   {
    "duration": 16,
    "start_time": "2024-09-23T15:54:20.696Z"
   },
   {
    "duration": 24,
    "start_time": "2024-09-23T15:54:20.713Z"
   },
   {
    "duration": 10,
    "start_time": "2024-09-23T15:54:20.738Z"
   },
   {
    "duration": 3,
    "start_time": "2024-09-23T15:54:20.749Z"
   },
   {
    "duration": 3,
    "start_time": "2024-09-23T15:54:20.753Z"
   },
   {
    "duration": 4,
    "start_time": "2024-09-23T15:54:20.757Z"
   },
   {
    "duration": 50,
    "start_time": "2024-09-23T15:54:20.762Z"
   },
   {
    "duration": 32,
    "start_time": "2024-09-23T15:54:20.813Z"
   },
   {
    "duration": 37,
    "start_time": "2024-09-23T15:54:20.846Z"
   },
   {
    "duration": 49,
    "start_time": "2024-09-23T15:54:20.884Z"
   },
   {
    "duration": 10,
    "start_time": "2024-09-23T15:54:32.586Z"
   },
   {
    "duration": 4,
    "start_time": "2024-09-23T15:55:21.628Z"
   },
   {
    "duration": 5,
    "start_time": "2024-09-23T15:57:22.700Z"
   },
   {
    "duration": 5,
    "start_time": "2024-09-23T15:58:13.419Z"
   },
   {
    "duration": 4,
    "start_time": "2024-09-23T16:49:30.284Z"
   },
   {
    "duration": 31,
    "start_time": "2024-09-23T16:50:45.939Z"
   },
   {
    "duration": 3,
    "start_time": "2024-09-23T16:51:05.524Z"
   },
   {
    "duration": 29,
    "start_time": "2024-09-23T16:51:08.057Z"
   },
   {
    "duration": 32,
    "start_time": "2024-09-23T16:53:38.283Z"
   },
   {
    "duration": 29,
    "start_time": "2024-09-23T16:54:03.855Z"
   },
   {
    "duration": 38,
    "start_time": "2024-09-23T16:54:13.210Z"
   },
   {
    "duration": 323,
    "start_time": "2024-09-23T17:11:08.358Z"
   },
   {
    "duration": 141,
    "start_time": "2024-09-23T17:11:08.683Z"
   },
   {
    "duration": 13,
    "start_time": "2024-09-23T17:11:08.826Z"
   },
   {
    "duration": 27,
    "start_time": "2024-09-23T17:11:08.841Z"
   },
   {
    "duration": 2,
    "start_time": "2024-09-23T17:11:08.869Z"
   },
   {
    "duration": 6,
    "start_time": "2024-09-23T17:11:08.873Z"
   },
   {
    "duration": 26,
    "start_time": "2024-09-23T17:11:08.881Z"
   },
   {
    "duration": 3,
    "start_time": "2024-09-23T17:11:08.908Z"
   },
   {
    "duration": 9,
    "start_time": "2024-09-23T17:11:08.913Z"
   },
   {
    "duration": 23,
    "start_time": "2024-09-23T17:11:08.924Z"
   },
   {
    "duration": 159,
    "start_time": "2024-09-23T17:11:08.948Z"
   },
   {
    "duration": 17,
    "start_time": "2024-09-23T17:11:09.108Z"
   },
   {
    "duration": 17,
    "start_time": "2024-09-23T17:11:09.126Z"
   },
   {
    "duration": 18,
    "start_time": "2024-09-23T17:11:09.145Z"
   },
   {
    "duration": 8,
    "start_time": "2024-09-23T17:11:09.164Z"
   },
   {
    "duration": 36,
    "start_time": "2024-09-23T17:11:09.174Z"
   },
   {
    "duration": 11,
    "start_time": "2024-09-23T17:11:09.211Z"
   },
   {
    "duration": 168,
    "start_time": "2024-09-23T17:11:09.223Z"
   },
   {
    "duration": 55,
    "start_time": "2024-09-23T17:11:09.392Z"
   },
   {
    "duration": 75,
    "start_time": "2024-09-23T17:11:09.449Z"
   },
   {
    "duration": 46,
    "start_time": "2024-09-23T17:11:09.525Z"
   },
   {
    "duration": 42,
    "start_time": "2024-09-23T17:11:09.572Z"
   },
   {
    "duration": 8,
    "start_time": "2024-09-23T17:11:09.615Z"
   },
   {
    "duration": 32,
    "start_time": "2024-09-23T17:11:09.624Z"
   },
   {
    "duration": 8,
    "start_time": "2024-09-23T17:11:09.657Z"
   },
   {
    "duration": 64,
    "start_time": "2024-09-23T17:11:09.666Z"
   },
   {
    "duration": 31,
    "start_time": "2024-09-23T17:11:09.732Z"
   },
   {
    "duration": 38,
    "start_time": "2024-09-23T17:11:09.766Z"
   },
   {
    "duration": 14,
    "start_time": "2024-09-23T17:11:09.806Z"
   },
   {
    "duration": 10,
    "start_time": "2024-09-23T17:11:09.822Z"
   },
   {
    "duration": 11,
    "start_time": "2024-09-23T17:11:09.833Z"
   },
   {
    "duration": 9,
    "start_time": "2024-09-23T17:11:09.845Z"
   },
   {
    "duration": 17,
    "start_time": "2024-09-23T17:11:09.855Z"
   },
   {
    "duration": 25,
    "start_time": "2024-09-23T17:11:09.873Z"
   },
   {
    "duration": 16,
    "start_time": "2024-09-23T17:11:09.899Z"
   },
   {
    "duration": 13,
    "start_time": "2024-09-23T17:11:09.917Z"
   },
   {
    "duration": 10,
    "start_time": "2024-09-23T17:11:09.931Z"
   },
   {
    "duration": 11,
    "start_time": "2024-09-23T17:11:09.942Z"
   },
   {
    "duration": 10,
    "start_time": "2024-09-23T17:11:09.955Z"
   },
   {
    "duration": 3,
    "start_time": "2024-09-23T17:11:09.966Z"
   },
   {
    "duration": 76,
    "start_time": "2024-09-23T17:11:09.971Z"
   },
   {
    "duration": 15,
    "start_time": "2024-09-23T17:11:10.048Z"
   },
   {
    "duration": 8,
    "start_time": "2024-09-23T17:11:10.064Z"
   },
   {
    "duration": 86,
    "start_time": "2024-09-23T17:11:10.073Z"
   },
   {
    "duration": 21,
    "start_time": "2024-09-23T17:11:10.160Z"
   },
   {
    "duration": 20,
    "start_time": "2024-09-23T17:11:10.182Z"
   },
   {
    "duration": 13,
    "start_time": "2024-09-23T17:11:10.204Z"
   },
   {
    "duration": 13,
    "start_time": "2024-09-23T17:11:10.218Z"
   },
   {
    "duration": 10,
    "start_time": "2024-09-23T17:11:10.232Z"
   },
   {
    "duration": 2,
    "start_time": "2024-09-23T17:11:10.244Z"
   },
   {
    "duration": 4,
    "start_time": "2024-09-23T17:11:10.247Z"
   },
   {
    "duration": 14,
    "start_time": "2024-09-23T17:11:10.252Z"
   },
   {
    "duration": 39,
    "start_time": "2024-09-23T17:11:10.268Z"
   },
   {
    "duration": 34,
    "start_time": "2024-09-23T17:11:10.309Z"
   },
   {
    "duration": 36,
    "start_time": "2024-09-23T17:11:10.344Z"
   },
   {
    "duration": 50,
    "start_time": "2024-09-23T17:11:10.381Z"
   },
   {
    "duration": 7,
    "start_time": "2024-09-23T17:11:10.432Z"
   },
   {
    "duration": 9,
    "start_time": "2024-09-23T17:11:10.440Z"
   },
   {
    "duration": 9,
    "start_time": "2024-09-23T17:11:10.450Z"
   },
   {
    "duration": 6,
    "start_time": "2024-09-23T17:11:10.460Z"
   },
   {
    "duration": 4,
    "start_time": "2024-09-23T17:11:10.467Z"
   },
   {
    "duration": 42,
    "start_time": "2024-09-23T17:11:10.472Z"
   },
   {
    "duration": 30,
    "start_time": "2024-09-23T17:11:10.515Z"
   }
  ],
  "celltoolbar": "Отсутствует",
  "colab": {
   "collapsed_sections": [
    "E0vqbgi9ay0H",
    "VUC88oWjTJw2"
   ],
   "provenance": []
  },
  "kernelspec": {
   "display_name": "practicum_default",
   "language": "python",
   "name": "python3"
  },
  "language_info": {
   "codemirror_mode": {
    "name": "ipython",
    "version": 3
   },
   "file_extension": ".py",
   "mimetype": "text/x-python",
   "name": "python",
   "nbconvert_exporter": "python",
   "pygments_lexer": "ipython3",
   "version": "3.9.22"
  },
  "toc": {
   "base_numbering": 1,
   "nav_menu": {
    "height": "215px",
    "width": "403px"
   },
   "number_sections": true,
   "sideBar": true,
   "skip_h1_title": true,
   "title_cell": "Table of Contents",
   "title_sidebar": "Contents",
   "toc_cell": false,
   "toc_position": {
    "height": "calc(100% - 180px)",
    "left": "10px",
    "top": "150px",
    "width": "285.825px"
   },
   "toc_section_display": true,
   "toc_window_display": false
  }
 },
 "nbformat": 4,
 "nbformat_minor": 1
}
